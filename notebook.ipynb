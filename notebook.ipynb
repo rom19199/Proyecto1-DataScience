{
 "cells": [
  {
   "cell_type": "markdown",
   "source": "# Proyecto 1  - Data Science",
   "metadata": {
    "formattedRanges": [],
    "is_collapsed": false,
    "cell_id": "1a7ae4bea5b74df49cb0725ae89c5376",
    "tags": [],
    "deepnote_cell_type": "text-cell-h1"
   }
  },
  {
   "cell_type": "code",
   "metadata": {
    "tags": [],
    "cell_id": "1a9148f1-8658-4a55-bc4c-929ef6fe7920",
    "deepnote_to_be_reexecuted": false,
    "source_hash": "a959248c",
    "execution_start": 1660343324030,
    "execution_millis": 2486,
    "deepnote_cell_type": "code",
    "deepnote_cell_height": 328
   },
   "source": "#Imports \nimport pandas as pd\nimport os\nimport random\nimport pyreadstat\nimport pyclustertend\nimport sklearn.preprocessing\nimport numpy as np\nimport sklearn.cluster as cluster\nimport matplotlib.pyplot as plt\nimport matplotlib.cm as cm\nimport seaborn as sns\nimport glob\nimport os\nfrom scipy import stats",
   "outputs": [],
   "execution_count": null
  },
  {
   "cell_type": "code",
   "metadata": {
    "cell_id": "e713b0c35af34296aeead69cf0ee8639",
    "tags": [],
    "deepnote_to_be_reexecuted": false,
    "source_hash": "3932fc44",
    "execution_start": 1660343326521,
    "execution_millis": 519,
    "deepnote_cell_type": "code",
    "deepnote_cell_height": 149.1875
   },
   "source": "files = os.path.join(\"./dataCSV\", \"*.csv\")\nfiles = glob.glob(files)\nlen(files)",
   "outputs": [
    {
     "output_type": "execute_result",
     "execution_count": 2,
     "data": {
      "text/plain": "23"
     },
     "metadata": {}
    }
   ],
   "execution_count": null
  },
  {
   "cell_type": "code",
   "metadata": {
    "cell_id": "3dcb3408af934796ac8b12d25b9793a3",
    "tags": [],
    "deepnote_to_be_reexecuted": false,
    "source_hash": "e0382d57",
    "execution_start": 1660343326537,
    "execution_millis": 509,
    "deepnote_cell_type": "code",
    "deepnote_cell_height": 648
   },
   "source": "df = pd.concat(map(pd.read_csv, files), ignore_index=True)\ndf.dropna(inplace = True)\ndf",
   "outputs": [
    {
     "output_type": "execute_result",
     "execution_count": 3,
     "data": {
      "application/vnd.deepnote.dataframe.v3+json": {
       "column_count": 17,
       "row_count": 6603,
       "columns": [
        {
         "name": "CODIGO",
         "dtype": "object",
         "stats": {
          "unique_count": 6603,
          "nan_count": 0,
          "categories": [
           {
            "name": "21-01-0101-46",
            "count": 1
           },
           {
            "name": "21-01-0104-46",
            "count": 1
           },
           {
            "name": "6601 others",
            "count": 6601
           }
          ]
         }
        },
        {
         "name": "DISTRITO",
         "dtype": "object",
         "stats": {
          "unique_count": 644,
          "nan_count": 0,
          "categories": [
           {
            "name": "01-403",
            "count": 126
           },
           {
            "name": "11-017",
            "count": 120
           },
           {
            "name": "642 others",
            "count": 6357
           }
          ]
         }
        },
        {
         "name": "DEPARTAMENTO",
         "dtype": "object",
         "stats": {
          "unique_count": 23,
          "nan_count": 0,
          "categories": [
           {
            "name": "GUATEMALA",
            "count": 980
           },
           {
            "name": "CIUDAD CAPITAL",
            "count": 878
           },
           {
            "name": "21 others",
            "count": 4745
           }
          ]
         }
        },
        {
         "name": "MUNICIPIO",
         "dtype": "object",
         "stats": {
          "unique_count": 348,
          "nan_count": 0,
          "categories": [
           {
            "name": "ZONA 1",
            "count": 319
           },
           {
            "name": "MIXCO",
            "count": 266
           },
           {
            "name": "346 others",
            "count": 6018
           }
          ]
         }
        },
        {
         "name": "ESTABLECIMIENTO",
         "dtype": "object",
         "stats": {
          "unique_count": 3840,
          "nan_count": 0,
          "categories": [
           {
            "name": "INSTITUTO NACIONAL DE EDUCACION DIVERSIFICADA",
            "count": 287
           },
           {
            "name": "INSTITUTO NACIONAL DE EDUCACIÓN DIVERSIFICADA",
            "count": 75
           },
           {
            "name": "3838 others",
            "count": 6241
           }
          ]
         }
        },
        {
         "name": "DIRECCION",
         "dtype": "object",
         "stats": {
          "unique_count": 4361,
          "nan_count": 0,
          "categories": [
           {
            "name": "CABECERA MUNICIPAL",
            "count": 217
           },
           {
            "name": "BARRIO EL CENTRO",
            "count": 57
           },
           {
            "name": "4359 others",
            "count": 6329
           }
          ]
         }
        },
        {
         "name": "TELEFONO",
         "dtype": "object",
         "stats": {
          "unique_count": 4270,
          "nan_count": 0,
          "categories": [
           {
            "name": "22067425",
            "count": 14
           },
           {
            "name": "79480009",
            "count": 14
           },
           {
            "name": "4268 others",
            "count": 6575
           }
          ]
         }
        },
        {
         "name": "SUPERVISOR",
         "dtype": "object",
         "stats": {
          "unique_count": 617,
          "nan_count": 0,
          "categories": [
           {
            "name": "MIGUEL ANGEL ARMAS ROCHA",
            "count": 165
           },
           {
            "name": "CARLOS HUMBERTO GONZALEZ DE LEON",
            "count": 155
           },
           {
            "name": "615 others",
            "count": 6283
           }
          ]
         }
        },
        {
         "name": "DIRECTOR",
         "dtype": "object",
         "stats": {
          "unique_count": 4315,
          "nan_count": 0,
          "categories": [
           {
            "name": "---",
            "count": 149
           },
           {
            "name": "--",
            "count": 49
           },
           {
            "name": "4313 others",
            "count": 6405
           }
          ]
         }
        },
        {
         "name": "NIVEL",
         "dtype": "object",
         "stats": {
          "unique_count": 1,
          "nan_count": 0,
          "categories": [
           {
            "name": "DIVERSIFICADO",
            "count": 6603
           }
          ]
         }
        },
        {
         "name": "SECTOR",
         "dtype": "object",
         "stats": {
          "unique_count": 4,
          "nan_count": 0,
          "categories": [
           {
            "name": "PRIVADO",
            "count": 5525
           },
           {
            "name": "OFICIAL",
            "count": 772
           },
           {
            "name": "2 others",
            "count": 306
           }
          ]
         }
        },
        {
         "name": "AREA",
         "dtype": "object",
         "stats": {
          "unique_count": 3,
          "nan_count": 0,
          "categories": [
           {
            "name": "URBANA",
            "count": 5252
           },
           {
            "name": "RURAL",
            "count": 1350
           },
           {
            "name": "SIN ESPECIFICAR",
            "count": 1
           }
          ]
         }
        },
        {
         "name": "STATUS",
         "dtype": "object",
         "stats": {
          "unique_count": 3,
          "nan_count": 0,
          "categories": [
           {
            "name": "ABIERTA",
            "count": 5495
           },
           {
            "name": "CERRADA TEMPORALMENTE",
            "count": 1070
           },
           {
            "name": "TEMPORAL TITULOS",
            "count": 38
           }
          ]
         }
        },
        {
         "name": "MODALIDAD",
         "dtype": "object",
         "stats": {
          "unique_count": 2,
          "nan_count": 0,
          "categories": [
           {
            "name": "MONOLINGUE",
            "count": 6368
           },
           {
            "name": "BILINGUE",
            "count": 235
           }
          ]
         }
        },
        {
         "name": "JORNADA",
         "dtype": "object",
         "stats": {
          "unique_count": 6,
          "nan_count": 0,
          "categories": [
           {
            "name": "DOBLE",
            "count": 2654
           },
           {
            "name": "VESPERTINA",
            "count": 1925
           },
           {
            "name": "4 others",
            "count": 2024
           }
          ]
         }
        },
        {
         "name": "PLAN",
         "dtype": "object"
        },
        {
         "name": "DEPARTAMENTAL",
         "dtype": "object"
        },
        {
         "name": "_deepnote_index_column",
         "dtype": "int64"
        }
       ],
       "rows": [
        {
         "CODIGO": "21-01-0101-46",
         "DISTRITO": "21-002",
         "DEPARTAMENTO": "JALAPA",
         "MUNICIPIO": "JALAPA",
         "ESTABLECIMIENTO": "INSTITUTO NORMAL CENTROAMERICANO PARA SEÑORITAS -INCAS-",
         "DIRECCION": "AVENIDA CHIPILAPA 1-65, ZONA 2",
         "TELEFONO": "79224268",
         "SUPERVISOR": "JORGE ADELINO PEREZ UCELO",
         "DIRECTOR": "IRIS JANNETTE AGUIRRE CONTRERAS",
         "NIVEL": "DIVERSIFICADO",
         "SECTOR": "OFICIAL",
         "AREA": "URBANA",
         "STATUS": "ABIERTA",
         "MODALIDAD": "MONOLINGUE",
         "JORNADA": "VESPERTINA",
         "PLAN": "DIARIO(REGULAR)",
         "DEPARTAMENTAL": "JALAPA",
         "_deepnote_index_column": 0
        },
        {
         "CODIGO": "21-01-0104-46",
         "DISTRITO": "21-002",
         "DEPARTAMENTO": "JALAPA",
         "MUNICIPIO": "JALAPA",
         "ESTABLECIMIENTO": "INSTITUTO NORMAL CENTROAMERICANO PARA VARONES",
         "DIRECCION": "CALLE TRANSITO ROJAS, 4-82, ZONA 2, BARRIO SAN FRANCISCO",
         "TELEFONO": "79224131",
         "SUPERVISOR": "JORGE ADELINO PEREZ UCELO",
         "DIRECTOR": "LISI KARINA ISABEL ESCOBAR ESPINOZA DE LUCERO",
         "NIVEL": "DIVERSIFICADO",
         "SECTOR": "OFICIAL",
         "AREA": "URBANA",
         "STATUS": "ABIERTA",
         "MODALIDAD": "MONOLINGUE",
         "JORNADA": "MATUTINA",
         "PLAN": "DIARIO(REGULAR)",
         "DEPARTAMENTAL": "JALAPA",
         "_deepnote_index_column": 1
        },
        {
         "CODIGO": "21-01-0106-46",
         "DISTRITO": "21-004",
         "DEPARTAMENTO": "JALAPA",
         "MUNICIPIO": "JALAPA",
         "ESTABLECIMIENTO": "COLEGIO PARTICULAR MIXTO LICEO JALAPA",
         "DIRECCION": "CALLE TRANSITO ROJAS 7-60 ZONA 1",
         "TELEFONO": "79220013",
         "SUPERVISOR": "VICTOR MANUEL PORTILLO RECINOS",
         "DIRECTOR": "EFRAÍN DE JESÚS SALAZAR PERALTA",
         "NIVEL": "DIVERSIFICADO",
         "SECTOR": "PRIVADO",
         "AREA": "URBANA",
         "STATUS": "ABIERTA",
         "MODALIDAD": "MONOLINGUE",
         "JORNADA": "NOCTURNA",
         "PLAN": "DIARIO(REGULAR)",
         "DEPARTAMENTAL": "JALAPA",
         "_deepnote_index_column": 2
        },
        {
         "CODIGO": "21-01-0107-46",
         "DISTRITO": "21-004",
         "DEPARTAMENTO": "JALAPA",
         "MUNICIPIO": "JALAPA",
         "ESTABLECIMIENTO": "INSTITUTO PARTICULAR MIXTO MODERNO JALAPANECO",
         "DIRECCION": "3A. CALLE 0-39 ZONA 2 BARRIO LA ESPERANZA",
         "TELEFONO": "51228253",
         "SUPERVISOR": "VICTOR MANUEL PORTILLO RECINOS",
         "DIRECTOR": "GERMAN DE JESUS RAMOS VALLE",
         "NIVEL": "DIVERSIFICADO",
         "SECTOR": "PRIVADO",
         "AREA": "URBANA",
         "STATUS": "CERRADA TEMPORALMENTE",
         "MODALIDAD": "MONOLINGUE",
         "JORNADA": "VESPERTINA",
         "PLAN": "DIARIO(REGULAR)",
         "DEPARTAMENTAL": "JALAPA",
         "_deepnote_index_column": 3
        },
        {
         "CODIGO": "21-01-0108-46",
         "DISTRITO": "21-004",
         "DEPARTAMENTO": "JALAPA",
         "MUNICIPIO": "JALAPA",
         "ESTABLECIMIENTO": "INSTITUTO PRIVADO DE EDUCACION DIVERSIFICADA EL PORVENIR",
         "DIRECCION": "4A. AVENIDA 2-66, ZONA 2 BARRIO SAN FRANCISCO",
         "TELEFONO": "79224958-79223033",
         "SUPERVISOR": "VICTOR MANUEL PORTILLO RECINOS",
         "DIRECTOR": "ROSA CORALIA PINEDA GALLARDO",
         "NIVEL": "DIVERSIFICADO",
         "SECTOR": "PRIVADO",
         "AREA": "URBANA",
         "STATUS": "ABIERTA",
         "MODALIDAD": "MONOLINGUE",
         "JORNADA": "VESPERTINA",
         "PLAN": "DIARIO(REGULAR)",
         "DEPARTAMENTAL": "JALAPA",
         "_deepnote_index_column": 4
        },
        {
         "CODIGO": "21-01-0111-46",
         "DISTRITO": "21-004",
         "DEPARTAMENTO": "JALAPA",
         "MUNICIPIO": "JALAPA",
         "ESTABLECIMIENTO": "COLEGIO PARTICULAR MIXTO \"LICEO NUEVO MILENIO\"",
         "DIRECCION": "1RA. CALLE A ZONA 3, RESIDENCIALES NUEVA JERUSALEN",
         "TELEFONO": "79222186",
         "SUPERVISOR": "VICTOR MANUEL PORTILLO RECINOS",
         "DIRECTOR": "NILSA MAGALY CORDERO GUDIEL DE SALAZAR",
         "NIVEL": "DIVERSIFICADO",
         "SECTOR": "PRIVADO",
         "AREA": "URBANA",
         "STATUS": "ABIERTA",
         "MODALIDAD": "MONOLINGUE",
         "JORNADA": "VESPERTINA",
         "PLAN": "DIARIO(REGULAR)",
         "DEPARTAMENTAL": "JALAPA",
         "_deepnote_index_column": 5
        },
        {
         "CODIGO": "21-01-0206-46",
         "DISTRITO": "21-005",
         "DEPARTAMENTO": "JALAPA",
         "MUNICIPIO": "JALAPA",
         "ESTABLECIMIENTO": "INSTITUTO NACIONAL DE EDUCACION DIVERSIFICADA",
         "DIRECCION": "CASERÍO LA LAGUNETA, ALDEA EL DURAZNO",
         "TELEFONO": "31233496",
         "SUPERVISOR": "THELMA YANETH POLANCO PEREZ DE CAMEY",
         "DIRECTOR": "MIGDALIA IRENE SANTILLANA FUENTES",
         "NIVEL": "DIVERSIFICADO",
         "SECTOR": "OFICIAL",
         "AREA": "RURAL",
         "STATUS": "ABIERTA",
         "MODALIDAD": "MONOLINGUE",
         "JORNADA": "VESPERTINA",
         "PLAN": "DIARIO(REGULAR)",
         "DEPARTAMENTAL": "JALAPA",
         "_deepnote_index_column": 6
        },
        {
         "CODIGO": "21-01-0233-46",
         "DISTRITO": "21-004",
         "DEPARTAMENTO": "JALAPA",
         "MUNICIPIO": "JALAPA",
         "ESTABLECIMIENTO": "COLEGIO PARTICULAR MIXTO POR MADUREZ OSCAR DE LEON PALACIOS",
         "DIRECCION": "CALLE TRANSITO ROJAS 8-54 ZONA 2",
         "TELEFONO": "56963730",
         "SUPERVISOR": "VICTOR MANUEL PORTILLO RECINOS",
         "DIRECTOR": "CLAUDIA MARINELI MARTÍNEZ HERNÁNDEZ",
         "NIVEL": "DIVERSIFICADO",
         "SECTOR": "PRIVADO",
         "AREA": "URBANA",
         "STATUS": "ABIERTA",
         "MODALIDAD": "MONOLINGUE",
         "JORNADA": "DOBLE",
         "PLAN": "FIN DE SEMANA",
         "DEPARTAMENTAL": "JALAPA",
         "_deepnote_index_column": 7
        },
        {
         "CODIGO": "21-01-0256-46",
         "DISTRITO": "21-004",
         "DEPARTAMENTO": "JALAPA",
         "MUNICIPIO": "JALAPA",
         "ESTABLECIMIENTO": "COLEGIO \"SAGRADO CORAZON\"",
         "DIRECCION": "3RA. CALLE 2-47 ZONA 2 BARRIO SAN FRANCISCO",
         "TELEFONO": "79227638",
         "SUPERVISOR": "VICTOR MANUEL PORTILLO RECINOS",
         "DIRECTOR": "FRANCISCO AUGUSTO CARRILLO HERNÁNDEZ",
         "NIVEL": "DIVERSIFICADO",
         "SECTOR": "PRIVADO",
         "AREA": "URBANA",
         "STATUS": "ABIERTA",
         "MODALIDAD": "MONOLINGUE",
         "JORNADA": "DOBLE",
         "PLAN": "FIN DE SEMANA",
         "DEPARTAMENTAL": "JALAPA",
         "_deepnote_index_column": 8
        },
        {
         "CODIGO": "21-01-0269-46",
         "DISTRITO": "21-004",
         "DEPARTAMENTO": "JALAPA",
         "MUNICIPIO": "JALAPA",
         "ESTABLECIMIENTO": "COLEGIO PRIVADO MIXTO DE EDUCACION BASICA \"EDUCARE\"",
         "DIRECCION": "6A. AV. 0-67 ZONA 5, BARRIO SAN FRANCISCO",
         "TELEFONO": "77964422",
         "SUPERVISOR": "VICTOR MANUEL PORTILLO RECINOS",
         "DIRECTOR": "ALVARO ANTONIO SANDOVAL ORELLANA",
         "NIVEL": "DIVERSIFICADO",
         "SECTOR": "PRIVADO",
         "AREA": "URBANA",
         "STATUS": "ABIERTA",
         "MODALIDAD": "MONOLINGUE",
         "JORNADA": "VESPERTINA",
         "PLAN": "DIARIO(REGULAR)",
         "DEPARTAMENTAL": "JALAPA",
         "_deepnote_index_column": 9
        }
       ]
      },
      "text/plain": "             CODIGO DISTRITO DEPARTAMENTO  MUNICIPIO  \\\n0     21-01-0101-46   21-002       JALAPA     JALAPA   \n1     21-01-0104-46   21-002       JALAPA     JALAPA   \n2     21-01-0106-46   21-004       JALAPA     JALAPA   \n3     21-01-0107-46   21-004       JALAPA     JALAPA   \n4     21-01-0108-46   21-004       JALAPA     JALAPA   \n...             ...      ...          ...        ...   \n8356  12-30-0072-46   12-107   SAN MARCOS  LA BLANCA   \n8357  12-30-0073-46   12-107   SAN MARCOS  LA BLANCA   \n8358  12-30-0079-46   12-107   SAN MARCOS  LA BLANCA   \n8359  12-30-0080-46   12-107   SAN MARCOS  LA BLANCA   \n8360  12-30-0082-46   12-093   SAN MARCOS  LA BLANCA   \n\n                                        ESTABLECIMIENTO  \\\n0     INSTITUTO NORMAL CENTROAMERICANO PARA SEÑORITA...   \n1         INSTITUTO NORMAL CENTROAMERICANO PARA VARONES   \n2                 COLEGIO PARTICULAR MIXTO LICEO JALAPA   \n3         INSTITUTO PARTICULAR MIXTO MODERNO JALAPANECO   \n4     INSTITUTO PRIVADO DE EDUCACION DIVERSIFICADA E...   \n...                                                 ...   \n8356        \"COLEGIO EDUCATIVO MIXTO LUNA AZUL -CEMLA-\"   \n8357        \"COLEGIO EDUCATIVO MIXTO LUNA AZUL -CEMLA-\"   \n8358  CENTRO EDUCATIVO \"CRISTO EL SALVADOR\" FE Y ALE...   \n8359        \"COLEGIO EDUCATIVO MIXTO LUNA AZUL -CEMLA-\"   \n8360       COLEGIO PRIVADO URBANO MIXTO \"LICEO MODERNO\"   \n\n                                              DIRECCION           TELEFONO  \\\n0                        AVENIDA CHIPILAPA 1-65, ZONA 2           79224268   \n1     CALLE TRANSITO ROJAS, 4-82, ZONA 2, BARRIO SAN...           79224131   \n2                      CALLE TRANSITO ROJAS 7-60 ZONA 1           79220013   \n3             3A. CALLE 0-39 ZONA 2 BARRIO LA ESPERANZA           51228253   \n4         4A. AVENIDA 2-66, ZONA 2 BARRIO SAN FRANCISCO  79224958-79223033   \n...                                                 ...                ...   \n8356                          PARCELAMIENTO CHIQUIRINES           45454204   \n8357                          PARCELAMIENTO CHIQUIRINES           45454204   \n8358                                 CABECERA MUNICIPAL           57109332   \n8359                          PARCELAMIENTO CHIQUIRINES           45454204   \n8360                                 CABECERA MUNICIPAL           30296022   \n\n                          SUPERVISOR  \\\n0          JORGE ADELINO PEREZ UCELO   \n1          JORGE ADELINO PEREZ UCELO   \n2     VICTOR MANUEL PORTILLO RECINOS   \n3     VICTOR MANUEL PORTILLO RECINOS   \n4     VICTOR MANUEL PORTILLO RECINOS   \n...                              ...   \n8356         JUAN JOSE TOBAR TEBALAN   \n8357         JUAN JOSE TOBAR TEBALAN   \n8358         JUAN JOSE TOBAR TEBALAN   \n8359         JUAN JOSE TOBAR TEBALAN   \n8360         JUAN JOSÉ TOBAR TEBALAN   \n\n                                           DIRECTOR          NIVEL   SECTOR  \\\n0                   IRIS JANNETTE AGUIRRE CONTRERAS  DIVERSIFICADO  OFICIAL   \n1     LISI KARINA ISABEL ESCOBAR ESPINOZA DE LUCERO  DIVERSIFICADO  OFICIAL   \n2                   EFRAÍN DE JESÚS SALAZAR PERALTA  DIVERSIFICADO  PRIVADO   \n3                       GERMAN DE JESUS RAMOS VALLE  DIVERSIFICADO  PRIVADO   \n4                      ROSA CORALIA PINEDA GALLARDO  DIVERSIFICADO  PRIVADO   \n...                                             ...            ...      ...   \n8356                   GERMAN DANIEL MÉRIDA JOACHÍN  DIVERSIFICADO  PRIVADO   \n8357                   GERMAN DANIEL MÉRIDA JOACHÍN  DIVERSIFICADO  PRIVADO   \n8358            MARVIN FERNANDO RODRÍGUEZ MALDONADO  DIVERSIFICADO  PRIVADO   \n8359             BETY PATRICIA OXLAJ PÉREZ DE LÓPEZ  DIVERSIFICADO  PRIVADO   \n8360                 MELVI WALDIR HURTADO CIFUENTES  DIVERSIFICADO  PRIVADO   \n\n        AREA                 STATUS   MODALIDAD     JORNADA             PLAN  \\\n0     URBANA                ABIERTA  MONOLINGUE  VESPERTINA  DIARIO(REGULAR)   \n1     URBANA                ABIERTA  MONOLINGUE    MATUTINA  DIARIO(REGULAR)   \n2     URBANA                ABIERTA  MONOLINGUE    NOCTURNA  DIARIO(REGULAR)   \n3     URBANA  CERRADA TEMPORALMENTE  MONOLINGUE  VESPERTINA  DIARIO(REGULAR)   \n4     URBANA                ABIERTA  MONOLINGUE  VESPERTINA  DIARIO(REGULAR)   \n...      ...                    ...         ...         ...              ...   \n8356   RURAL                ABIERTA  MONOLINGUE       DOBLE    FIN DE SEMANA   \n8357   RURAL                ABIERTA  MONOLINGUE       DOBLE    FIN DE SEMANA   \n8358  URBANA                ABIERTA  MONOLINGUE  VESPERTINA  DIARIO(REGULAR)   \n8359   RURAL                ABIERTA  MONOLINGUE  VESPERTINA  DIARIO(REGULAR)   \n8360  URBANA                ABIERTA  MONOLINGUE    NOCTURNA  DIARIO(REGULAR)   \n\n     DEPARTAMENTAL  \n0           JALAPA  \n1           JALAPA  \n2           JALAPA  \n3           JALAPA  \n4           JALAPA  \n...            ...  \n8356    SAN MARCOS  \n8357    SAN MARCOS  \n8358    SAN MARCOS  \n8359    SAN MARCOS  \n8360    SAN MARCOS  \n\n[6603 rows x 17 columns]",
      "text/html": "<div>\n<style scoped>\n    .dataframe tbody tr th:only-of-type {\n        vertical-align: middle;\n    }\n\n    .dataframe tbody tr th {\n        vertical-align: top;\n    }\n\n    .dataframe thead th {\n        text-align: right;\n    }\n</style>\n<table border=\"1\" class=\"dataframe\">\n  <thead>\n    <tr style=\"text-align: right;\">\n      <th></th>\n      <th>CODIGO</th>\n      <th>DISTRITO</th>\n      <th>DEPARTAMENTO</th>\n      <th>MUNICIPIO</th>\n      <th>ESTABLECIMIENTO</th>\n      <th>DIRECCION</th>\n      <th>TELEFONO</th>\n      <th>SUPERVISOR</th>\n      <th>DIRECTOR</th>\n      <th>NIVEL</th>\n      <th>SECTOR</th>\n      <th>AREA</th>\n      <th>STATUS</th>\n      <th>MODALIDAD</th>\n      <th>JORNADA</th>\n      <th>PLAN</th>\n      <th>DEPARTAMENTAL</th>\n    </tr>\n  </thead>\n  <tbody>\n    <tr>\n      <th>0</th>\n      <td>21-01-0101-46</td>\n      <td>21-002</td>\n      <td>JALAPA</td>\n      <td>JALAPA</td>\n      <td>INSTITUTO NORMAL CENTROAMERICANO PARA SEÑORITA...</td>\n      <td>AVENIDA CHIPILAPA 1-65, ZONA 2</td>\n      <td>79224268</td>\n      <td>JORGE ADELINO PEREZ UCELO</td>\n      <td>IRIS JANNETTE AGUIRRE CONTRERAS</td>\n      <td>DIVERSIFICADO</td>\n      <td>OFICIAL</td>\n      <td>URBANA</td>\n      <td>ABIERTA</td>\n      <td>MONOLINGUE</td>\n      <td>VESPERTINA</td>\n      <td>DIARIO(REGULAR)</td>\n      <td>JALAPA</td>\n    </tr>\n    <tr>\n      <th>1</th>\n      <td>21-01-0104-46</td>\n      <td>21-002</td>\n      <td>JALAPA</td>\n      <td>JALAPA</td>\n      <td>INSTITUTO NORMAL CENTROAMERICANO PARA VARONES</td>\n      <td>CALLE TRANSITO ROJAS, 4-82, ZONA 2, BARRIO SAN...</td>\n      <td>79224131</td>\n      <td>JORGE ADELINO PEREZ UCELO</td>\n      <td>LISI KARINA ISABEL ESCOBAR ESPINOZA DE LUCERO</td>\n      <td>DIVERSIFICADO</td>\n      <td>OFICIAL</td>\n      <td>URBANA</td>\n      <td>ABIERTA</td>\n      <td>MONOLINGUE</td>\n      <td>MATUTINA</td>\n      <td>DIARIO(REGULAR)</td>\n      <td>JALAPA</td>\n    </tr>\n    <tr>\n      <th>2</th>\n      <td>21-01-0106-46</td>\n      <td>21-004</td>\n      <td>JALAPA</td>\n      <td>JALAPA</td>\n      <td>COLEGIO PARTICULAR MIXTO LICEO JALAPA</td>\n      <td>CALLE TRANSITO ROJAS 7-60 ZONA 1</td>\n      <td>79220013</td>\n      <td>VICTOR MANUEL PORTILLO RECINOS</td>\n      <td>EFRAÍN DE JESÚS SALAZAR PERALTA</td>\n      <td>DIVERSIFICADO</td>\n      <td>PRIVADO</td>\n      <td>URBANA</td>\n      <td>ABIERTA</td>\n      <td>MONOLINGUE</td>\n      <td>NOCTURNA</td>\n      <td>DIARIO(REGULAR)</td>\n      <td>JALAPA</td>\n    </tr>\n    <tr>\n      <th>3</th>\n      <td>21-01-0107-46</td>\n      <td>21-004</td>\n      <td>JALAPA</td>\n      <td>JALAPA</td>\n      <td>INSTITUTO PARTICULAR MIXTO MODERNO JALAPANECO</td>\n      <td>3A. CALLE 0-39 ZONA 2 BARRIO LA ESPERANZA</td>\n      <td>51228253</td>\n      <td>VICTOR MANUEL PORTILLO RECINOS</td>\n      <td>GERMAN DE JESUS RAMOS VALLE</td>\n      <td>DIVERSIFICADO</td>\n      <td>PRIVADO</td>\n      <td>URBANA</td>\n      <td>CERRADA TEMPORALMENTE</td>\n      <td>MONOLINGUE</td>\n      <td>VESPERTINA</td>\n      <td>DIARIO(REGULAR)</td>\n      <td>JALAPA</td>\n    </tr>\n    <tr>\n      <th>4</th>\n      <td>21-01-0108-46</td>\n      <td>21-004</td>\n      <td>JALAPA</td>\n      <td>JALAPA</td>\n      <td>INSTITUTO PRIVADO DE EDUCACION DIVERSIFICADA E...</td>\n      <td>4A. AVENIDA 2-66, ZONA 2 BARRIO SAN FRANCISCO</td>\n      <td>79224958-79223033</td>\n      <td>VICTOR MANUEL PORTILLO RECINOS</td>\n      <td>ROSA CORALIA PINEDA GALLARDO</td>\n      <td>DIVERSIFICADO</td>\n      <td>PRIVADO</td>\n      <td>URBANA</td>\n      <td>ABIERTA</td>\n      <td>MONOLINGUE</td>\n      <td>VESPERTINA</td>\n      <td>DIARIO(REGULAR)</td>\n      <td>JALAPA</td>\n    </tr>\n    <tr>\n      <th>...</th>\n      <td>...</td>\n      <td>...</td>\n      <td>...</td>\n      <td>...</td>\n      <td>...</td>\n      <td>...</td>\n      <td>...</td>\n      <td>...</td>\n      <td>...</td>\n      <td>...</td>\n      <td>...</td>\n      <td>...</td>\n      <td>...</td>\n      <td>...</td>\n      <td>...</td>\n      <td>...</td>\n      <td>...</td>\n    </tr>\n    <tr>\n      <th>8356</th>\n      <td>12-30-0072-46</td>\n      <td>12-107</td>\n      <td>SAN MARCOS</td>\n      <td>LA BLANCA</td>\n      <td>\"COLEGIO EDUCATIVO MIXTO LUNA AZUL -CEMLA-\"</td>\n      <td>PARCELAMIENTO CHIQUIRINES</td>\n      <td>45454204</td>\n      <td>JUAN JOSE TOBAR TEBALAN</td>\n      <td>GERMAN DANIEL MÉRIDA JOACHÍN</td>\n      <td>DIVERSIFICADO</td>\n      <td>PRIVADO</td>\n      <td>RURAL</td>\n      <td>ABIERTA</td>\n      <td>MONOLINGUE</td>\n      <td>DOBLE</td>\n      <td>FIN DE SEMANA</td>\n      <td>SAN MARCOS</td>\n    </tr>\n    <tr>\n      <th>8357</th>\n      <td>12-30-0073-46</td>\n      <td>12-107</td>\n      <td>SAN MARCOS</td>\n      <td>LA BLANCA</td>\n      <td>\"COLEGIO EDUCATIVO MIXTO LUNA AZUL -CEMLA-\"</td>\n      <td>PARCELAMIENTO CHIQUIRINES</td>\n      <td>45454204</td>\n      <td>JUAN JOSE TOBAR TEBALAN</td>\n      <td>GERMAN DANIEL MÉRIDA JOACHÍN</td>\n      <td>DIVERSIFICADO</td>\n      <td>PRIVADO</td>\n      <td>RURAL</td>\n      <td>ABIERTA</td>\n      <td>MONOLINGUE</td>\n      <td>DOBLE</td>\n      <td>FIN DE SEMANA</td>\n      <td>SAN MARCOS</td>\n    </tr>\n    <tr>\n      <th>8358</th>\n      <td>12-30-0079-46</td>\n      <td>12-107</td>\n      <td>SAN MARCOS</td>\n      <td>LA BLANCA</td>\n      <td>CENTRO EDUCATIVO \"CRISTO EL SALVADOR\" FE Y ALE...</td>\n      <td>CABECERA MUNICIPAL</td>\n      <td>57109332</td>\n      <td>JUAN JOSE TOBAR TEBALAN</td>\n      <td>MARVIN FERNANDO RODRÍGUEZ MALDONADO</td>\n      <td>DIVERSIFICADO</td>\n      <td>PRIVADO</td>\n      <td>URBANA</td>\n      <td>ABIERTA</td>\n      <td>MONOLINGUE</td>\n      <td>VESPERTINA</td>\n      <td>DIARIO(REGULAR)</td>\n      <td>SAN MARCOS</td>\n    </tr>\n    <tr>\n      <th>8359</th>\n      <td>12-30-0080-46</td>\n      <td>12-107</td>\n      <td>SAN MARCOS</td>\n      <td>LA BLANCA</td>\n      <td>\"COLEGIO EDUCATIVO MIXTO LUNA AZUL -CEMLA-\"</td>\n      <td>PARCELAMIENTO CHIQUIRINES</td>\n      <td>45454204</td>\n      <td>JUAN JOSE TOBAR TEBALAN</td>\n      <td>BETY PATRICIA OXLAJ PÉREZ DE LÓPEZ</td>\n      <td>DIVERSIFICADO</td>\n      <td>PRIVADO</td>\n      <td>RURAL</td>\n      <td>ABIERTA</td>\n      <td>MONOLINGUE</td>\n      <td>VESPERTINA</td>\n      <td>DIARIO(REGULAR)</td>\n      <td>SAN MARCOS</td>\n    </tr>\n    <tr>\n      <th>8360</th>\n      <td>12-30-0082-46</td>\n      <td>12-093</td>\n      <td>SAN MARCOS</td>\n      <td>LA BLANCA</td>\n      <td>COLEGIO PRIVADO URBANO MIXTO \"LICEO MODERNO\"</td>\n      <td>CABECERA MUNICIPAL</td>\n      <td>30296022</td>\n      <td>JUAN JOSÉ TOBAR TEBALAN</td>\n      <td>MELVI WALDIR HURTADO CIFUENTES</td>\n      <td>DIVERSIFICADO</td>\n      <td>PRIVADO</td>\n      <td>URBANA</td>\n      <td>ABIERTA</td>\n      <td>MONOLINGUE</td>\n      <td>NOCTURNA</td>\n      <td>DIARIO(REGULAR)</td>\n      <td>SAN MARCOS</td>\n    </tr>\n  </tbody>\n</table>\n<p>6603 rows × 17 columns</p>\n</div>"
     },
     "metadata": {}
    }
   ],
   "execution_count": null
  },
  {
   "cell_type": "code",
   "metadata": {
    "cell_id": "8b124ae2de7b483c8f386ccabc8b975d",
    "tags": [],
    "deepnote_to_be_reexecuted": false,
    "source_hash": "774c4edc",
    "execution_start": 1660343326872,
    "execution_millis": 27,
    "deepnote_cell_type": "code",
    "deepnote_cell_height": 714
   },
   "source": "for col in df:\n    print(df[col].unique())",
   "outputs": [
    {
     "name": "stdout",
     "text": "['21-01-0101-46' '21-01-0104-46' '21-01-0106-46' ... '12-30-0079-46'\n '12-30-0080-46' '12-30-0082-46']\n['21-002' '21-004' '21-005' '21-025' '21-008' '21-011' '21-012' '21-013'\n '21-009' '21-003' '21-018' '21-019' '03-002' '03-001' '03-009' '03-016'\n '03-003' '03-004' '03-005' '03-006' '03-008' '03-007' '13-050' '13-004'\n '13-060' '13-005' '13-006' '13-007' '13-009' '13-010' '13-012' '13-011'\n '13-014' '13-015' '13-017' '13-016' '13-051' '13-018' '13-020' '13-022'\n '13-037' '13-023' '13-024' '13-026' '13-025' '13-027' '13-028' '13-029'\n '13-055' '13-030' '13-031' '13-032' '13-033' '13-034' '13-036' '13-038'\n '13-039' '13-040' '13-041' '13-042' '13-056' '13-043' '13-046' '13-049'\n '13-048' '13-035' '13-057' '13-058' '13-008' '13-061' '22-003' '22-001'\n '22-009' '22-013' '22-005' '22-024' '22-038' '22-030' '22-031' '22-037'\n '22-010' '22-032' '22-011' '22-012' '22-016' '22-002' '22-017' '22-034'\n '22-020' '22-021' '22-019' '22-004' '22-022' '22-029' '22-033' '22-023'\n '22-035' '22-036' '22-007' '22-025' '22-026' '22-027' '15-001' '15-026'\n '15-030' '15-024' '15-034' '15-006' '15-032' '15-031' '15-029' '15-011'\n '15-016' '15-015' '15-018' '15-019' '15-020' '15-021' '04-028' '04-001'\n '04-027' '04-020' '04-003' '04-002' '04-029' '04-012' '04-022' '04-033'\n '04-006' '04-005' '04-007' '04-034' '04-023' '04-018' '04-015' '04-010'\n '04-011' '04-035' '04-021' '04-014' '04-013' '04-036' '04-019' '04-009'\n '04-026' '04-016' '04-017' '04-030' '04-004' '04-025' '04-008' '04-024'\n '19-001' '19-019' '19-018' '19-005' '19-006' '19-007' '19-008' '19-009'\n '19-010' '19-011' '19-012' '19-013' '19-014' '19-021' '19-015' '19-020'\n '08-001' '08-024' '08-023' '08-003' '08-025' '08-007' '08-009' '08-012'\n '08-015' '08-016' '08-014' '08-019' '08-021' '08-022' '01-627' '01-502'\n '01-405' '01-510' '01-644' '01-508' '01-506' '01-624' '01-633' '01-113'\n '01-107' '01-108' '01-642' '01-403' '01-106' '01-111' '01-643' '01-103'\n '01-407' '01-109' '01-114' '01-310' '01-609' '01-401' '01-409' '01-616'\n '01-603' '01-604' '01-607' '01-606' '01-615' '01-621' '01-608' '01-602'\n '01-410' '01-601' '01-619' '01-639' '01-620' '01-406' '01-' '01-612'\n '01-610' '01-636' '01-647' '01-611' '01-605' '01-622' '01-613' '01-614'\n '01-632' '01-408' '01-637' '01-201' '01-629' '01-202' '01-203' '01-212'\n '01-411' '01-213' '01-216' '01-210' '01-207' '01-214' '01-219' '01-215'\n '01-221' '01-206' '01-218' '01-209' '01-630' '01-631' '01-641' '01-640'\n '01-217' '01-625' '01-205' '01-501' '01-645' '01-220' '01-204' '09-006'\n '09-005' '09-002' '09-036' '09-004' '09-041' '09-001' '09-012' '09-007'\n '09-009' '09-010' '09-011' '09-043' '09-027' '09-015' '09-016' '09-018'\n '09-017' '09-020' '09-021' '09-022' '09-024' '09-025' '09-023' '09-026'\n '09-039' '09-040' '09-028' '09-032' '09-030' '09-031' '09-042' '09-034'\n '09-035' '01-312' '01-307' '01-317' '01-315' '01-301' '01-308' '01-305'\n '01-402' '01-303' '01-316' '01-318' '01-102' '99-001' '01-101' '01-304'\n '01-319' '01-618' '01-116' '01-112' '01-115' '01-001' '01-302' '01-313'\n '01-314' '01-504' '01-623' '01-617' '01-505' '01-646' '01-503' '01-404'\n '01-211' '01-635' '01-208' '01-509' '01-105' '01-110' '01-104' '10-019'\n '10-018' '10-029' '10-003' '10-020' '10-013' '10-006' '10-005' '10-025'\n '10-004' '10-009' '10-010' '10-026' '10-015' '10-017' '10-021' '10-011'\n '10-008' '10-016' '10-028' '20-001' '20-024' '20-027' '20-030' '20-039'\n '20-034' '20-003' '20-043' '20-004' '20-042' '20-017' '20-008' '20-035'\n '20-014' '20-015' '20-040' '20-038' '20-037' '20-018' '20-041' '11-017'\n '11-004' '11-014' '11-019' '11-018' '11-016' '07-019' '07-004' '07-003'\n '07-002' '07-024' '07-005' '07-014' '07-006' '07-007' '07-008' '07-010'\n '07-009' '07-018' '07-016' '07-017' '07-011' '07-023' '07-022' '07-021'\n '07-028' '07-013' '07-015' '06-001' '06-039' '06-027' '06-005' '06-006'\n '06-024' '06-007' '06-008' '06-009' '06-035' '06-036' '06-012' '06-019'\n '06-017' '06-037' '06-020' '06-022' '06-021' '06-023' '06-025' '06-031'\n '14-001' '14-036' '14-037' '14-003' '14-004' '14-005' '14-006' '14-042'\n '14-007' '14-009' '14-010' '14-011' '14-012' '14-013' '14-015' '14-039'\n '14-048' '14-049' '14-019' '14-020' '14-018' '14-022' '14-045' '14-025'\n '14-024' '14-023' '14-026' '14-040' '14-029' '14-050' '14-030' '14-051'\n '14-033' '14-034' '14-052' '14-032' '14-035' '18-007' '18-008' '18-005'\n '18-009' '18-017' '18-040' '18-013' '18-011' '18-016' '18-041' '18-015'\n '18-020' '18-021' '18-012' '18-039' '18-030' '18-033' '18-036' '18-037'\n '18-032' '18-024' '02-014' '02-004' '02-021' '02-002' '02-013' '02-003'\n '02-019' '02-020' '02-006' '02-018' '02-008' '17-001' '17-048' '17-002'\n '17-003' '17-004' '17-049' '17-038' '17-006' '17-007' '17-008' '17-047'\n '17-041' '17-009' '17-027' '17-011' '17-010' '17-012' '17-014' '17-013'\n '17-016' '17-015' '17-031' '17-017' '17-042' '17-018' '17-024' '17-020'\n '17-019' '17-021' '17-022' '17-026' '17-' '17-025' '17-044' '17-043'\n '16-031' '16-006' '16-005' '16-037' '16-050' '16-008' '16-007' '16-009'\n '16-011' '16-010' '16-046' '16-012' '16-036' '16-013' '16-041' '16-042'\n '16-040' '16-018' '16-015' '16-017' '16-016' '16-014' '16-019' '16-021'\n '16-022' '16-023' '16-024' '16-026' '16-025' '16-045' '16-027' '16-028'\n '16-039' '16-030' '16-038' '05-033' '05-028' '05-022' '05-007' '05-023'\n '05-009' '05-031' '05-013' '05-027' '05-011' '05-012' '05-014' '05-015'\n '05-016' '05-017' '05-018' '05-019' '05-029' '12-001' '12-063' '12-100'\n '12-109' '12-006' '12-055' '12-008' '12-047' '12-009' '12-069' '12-060'\n '12-115' '12-113' '12-119' '12-086' '12-105' '12-012' '12-106' '12-016'\n '12-090' '12-071' '12-072' '12-017' '12-076' '12-019' '12-021' '12-022'\n '12-025' '12-026' '12-118' '12-088' '12-028' '12-103' '12-080' '12-117'\n '12-032' '12-058' '12-104' '12-034' '12-029' '12-116' '12-037' '12-038'\n '12-096' '12-093' '12-042' '12-112' '12-041' '12-035' '12-043' '12-044'\n '12-121' '12-045' '12-082' '12-110' '12-048' '12-049' '12-122' '12-120'\n '12-051' '12-052' '12-053' '12-107']\n['JALAPA' 'SACATEPEQUEZ' 'HUEHUETENANGO' 'JUTIAPA' 'BAJA VERAPAZ'\n 'CHIMALTENANGO' 'ZACAPA' 'TOTONICAPAN' 'GUATEMALA' 'QUETZALTENANGO'\n 'CIUDAD CAPITAL' 'SUCHITEPEQUEZ' 'CHIQUIMULA' 'RETALHULEU' 'SOLOLA'\n 'SANTA ROSA' 'QUICHE' 'IZABAL' 'EL PROGRESO' 'PETEN' 'ALTA VERAPAZ'\n 'ESCUINTLA' 'SAN MARCOS']\n['JALAPA' 'SAN PEDRO PINULA' 'SAN LUIS JILOTEPEQUE' 'SAN MANUEL CHAPARRON'\n 'SAN CARLOS ALZATATE' 'MONJAS' 'MATAQUESCUINTLA' 'ANTIGUA GUATEMALA'\n 'JOCOTENANGO' 'PASTORES' 'SUMPANGO' 'SANTO DOMINGO XENACOJ'\n 'SANTIAGO SACATEPEQUEZ' 'SAN BARTOLOME MILPAS ALTAS'\n 'SAN LUCAS SACATEPEQUEZ' 'SANTA LUCIA MILPAS ALTAS'\n 'MAGDALENA MILPAS ALTAS' 'SANTA MARIA DE JESUS' 'CIUDAD VIEJA'\n 'SAN MIGUEL DUENAS' 'ALOTENANGO' 'SAN ANTONIO AGUAS CALIENTES'\n 'SANTA CATARINA BARAHONA' 'HUEHUETENANGO' 'CHIANTLA' 'MALACATANCITO'\n 'CUILCO' 'NENTON' 'SAN PEDRO NECTA' 'JACALTENANGO' 'SAN PEDRO SOLOMA'\n 'SAN ILDEFONSO IXTAHUACAN' 'SANTA BARBARA' 'LA LIBERTAD' 'LA DEMOCRACIA'\n 'SAN MIGUEL ACATAN' 'SAN RAFAEL LA INDEPENDENCIA'\n 'TODOS SANTOS CUCHUMATAN' 'SAN JUAN ATITAN' 'SANTA EULALIA'\n 'SAN MATEO IXTATAN' 'COLOTENANGO' 'SAN SEBASTIAN HUEHUETENANGO'\n 'TECTITAN' 'CONCEPCION HUISTA' 'SAN JUAN IXCOY' 'SAN ANTONIO HUISTA'\n 'SAN SEBASTIAN COATAN' 'SANTA CRUZ BARILLAS' 'AGUACATAN'\n 'SAN RAFAEL PETZAL' 'SANTIAGO CHIMALTENANGO' 'SANTA ANA HUISTA'\n 'UNION CANTINIL' 'PETATAN' 'JUTIAPA' 'EL PROGRESO' 'SANTA CATARINA MITA'\n 'AGUA BLANCA' 'ASUNCION MITA' 'YUPILTEPEQUE' 'ATESCATEMPA' 'JEREZ'\n 'EL ADELANTO' 'ZAPOTITLAN' 'COMAPA' 'JALPATAGUA' 'CONGUACO' 'MOYUTA'\n 'PASACO' 'SAN JOSE ACATEMPA' 'QUESADA' 'SALAMA' 'SAN MIGUEL CHICAJ'\n 'RABINAL' 'CUBULCO' 'GRANADOS' 'SANTA CRUZ EL CHOL' 'SAN JERONIMO'\n 'PURULHA' 'CHIMALTENANGO' 'SAN JOSE POAQUIL' 'SAN MARTIN JILOTEPEQUE'\n 'SAN JUAN COMALAPA' 'SANTA APOLONIA' 'TECPAN GUATEMALA' 'PATZUN'\n 'SAN MIGUEL POCHUTA' 'PATZICIA' 'SANTA CRUZ BALANYA' 'ACATENANGO'\n 'SAN PEDRO YEPOCAPA' 'SAN ANDRES ITZAPA' 'PARRAMOS' 'ZARAGOZA' 'EL TEJAR'\n 'ZACAPA' 'ESTANZUELA' 'RIO HONDO' 'GUALAN' 'TECULUTAN' 'USUMATLAN'\n 'CABAÑAS' 'SAN DIEGO' 'LA UNION' 'HUITE' 'SAN JORGE' 'TOTONICAPAN'\n 'SAN CRISTOBAL TOTONICAPAN' 'SAN FRANCISCO EL ALTO' 'SAN ANDRES XECUL'\n 'MOMOSTENANGO' 'SANTA MARIA CHIQUIMULA' 'SANTA LUCIA LA REFORMA'\n 'SAN BARTOLO AGUAS CALIENTES' 'GUATEMALA' 'SANTA CATARINA PINULA'\n 'SAN JOSE PINULA' 'SAN JOSE DEL GOLFO' 'PALENCIA' 'CHINAUTLA'\n 'SAN PEDRO AYAMPUC' 'MIXCO' 'SAN PEDRO SACATEPEQUEZ'\n 'SAN JUAN SACATEPEQUEZ' 'SAN RAYMUNDO' 'CHUARRANCHO' 'FRAIJANES'\n 'AMATITLAN' 'VILLA NUEVA' 'VILLA CANALES' 'SAN MIGUEL PETAPA'\n 'QUETZALTENANGO' 'SALCAJA' 'OLINTEPEQUE' 'SAN CARLOS SIJA' 'SIBILIA'\n 'CABRICAN' 'CAJOLA' 'SAN MIGUEL SIGUILA' 'SAN JUAN OSTUNCALCO'\n 'SAN MATEO' 'CONCEPCION CHIQUIRICHAPA' 'SAN MARTIN SACATEPEQUEZ' 'CANTEL'\n 'HUITAN' 'ZUNIL' 'COLOMBA COSTA CUCA' 'SAN FRANCISCO LA UNION'\n 'EL PALMAR' 'COATEPEQUE' 'GENOVA COSTA CUCA' 'FLORES COSTA CUCA'\n 'LA ESPERANZA' 'PALESTINA DE LOS ALTOS' 'ZONA 1' 'ZONA 2' 'ZONA 3'\n 'ZONA 4' 'ZONA 5' 'ZONA 6' 'ZONA 7' 'ZONA 8' 'ZONA 9' 'ZONA 10' 'ZONA 11'\n 'ZONA 12' 'ZONA 13' 'ZONA 14' 'ZONA 15' 'ZONA 16' 'ZONA 17' 'ZONA 18'\n 'ZONA 19' 'ZONA 21' 'ZONA 24' 'MAZATENANGO' 'CUYOTENANGO'\n 'SAN FRANCISCO ZAPOTITLAN' 'SAN BERNARDINO' 'SAN JOSE EL IDOLO'\n 'SANTO DOMINGO SUCHITEPEQUEZ' 'SAN LORENZO' 'SAMAYAC'\n 'SAN PABLO JOCOPILAS' 'SAN ANTONIO SUCHITEPEQUEZ' 'SAN GABRIEL'\n 'CHICACAO' 'PATULUL' 'SANTO TOMAS LA UNION' 'ZUNILITO' 'PUEBLO NUEVO'\n 'RIO BRAVO' 'SAN JOSE LA MAQUINA' 'CHIQUIMULA' 'SAN JOSE LA ARADA'\n 'SAN JUAN ERMITA' 'JOCOTAN' 'CAMOTAN' 'OLOPA' 'ESQUIPULAS'\n 'CONCEPCION LAS MINAS' 'QUEZALTEPEQUE' 'SAN JACINTO' 'IPALA' 'RETALHULEU'\n 'SAN SEBASTIAN' 'SANTA CRUZ MULUA' 'SAN MARTIN ZAPOTITLAN' 'SAN FELIPE'\n 'SAN ANDRES VILLA SECA' 'CHAMPERICO' 'NUEVO SAN CARLOS' 'EL ASINTAL'\n 'SOLOLA' 'SAN JOSE CHACAYA' 'SANTA MARIA VISITACION'\n 'SANTA LUCIA UTATLAN' 'NAHUALA' 'SANTA CATARINA IXTAHUACAN'\n 'SANTA CLARA LA LAGUNA' 'SAN ANDRES SEMETABAJ' 'PANAJACHEL'\n 'SAN ANTONIO PALOPO' 'SAN LUCAS TOLIMAN' 'SAN PABLO LA LAGUNA'\n 'SAN MARCOS LA LAGUNA' 'SAN JUAN LA LAGUNA' 'SAN PEDRO LA LAGUNA'\n 'SANTIAGO ATITLAN' 'CUILAPA' 'BARBERENA' 'SANTA ROSA DE LIMA' 'CASILLAS'\n 'SAN RAFAEL LAS FLORES' 'ORATORIO' 'SAN JUAN TECUACO' 'CHIQUIMULILLA'\n 'TAXISCO' 'SANTA MARIA IXHUATAN' 'GUAZACAPAN' 'SANTA CRUZ NARANJO'\n 'PUEBLO NUEVO VIÑAS' 'NUEVA SANTA ROSA' 'SANTA CRUZ DEL QUICHE' 'CHICHE'\n 'CHINIQUE' 'ZACUALPA' 'CHAJUL' 'SANTO TOMAS CHICHICASTENANGO' 'PATZITE'\n 'SAN ANTONIO ILOTENANGO' 'SAN PEDRO JOCOPILAS' 'CUNEN' 'SAN JUAN COTZAL'\n 'JOYABAJ' 'NEBAJ' 'SAN ANDRES SAJCABAJA' 'SAN MIGUEL USPANTAN'\n 'SACAPULAS' 'SAN BARTOLOME JOCOTENANGO' 'CANILLA' 'CHICAMAN' 'IXCAN'\n 'PACHALUN' 'PUERTO BARRIOS' 'LIVINGSTON' 'EL ESTOR' 'MORALES'\n 'LOS AMATES' 'GUASTATOYA' 'MORAZAN' 'SAN AGUSTIN ACASAGUASTLAN'\n 'SAN CRISTOBAL ACASAGUASTLAN' 'EL JICARO' 'SANSARE' 'SANARATE'\n 'SAN ANTONIO LA PAZ' 'FLORES' 'SAN JOSE' 'SAN BENITO' 'SAN ANDRES'\n 'SAN FRANCISCO' 'SANTA ANA' 'DOLORES' 'SAN LUIS' 'SAYAXCHE'\n 'MELCHOR DE MENCOS' 'POPTUN' 'LAS CRUCES' 'EL CHAL' 'COBAN'\n 'SANTA CRUZ VERAPAZ' 'SAN CRISTOBAL VERAPAZ' 'TACTIC' 'TAMAHU'\n 'SAN MIGUEL TUCURU' 'PANZOS' 'SENAHU' 'SAN PEDRO CARCHA'\n 'SAN JUAN CHAMELCO' 'LANQUIN' 'SANTA MARIA CAHABON' 'CHISEC' 'CHAHAL'\n 'FRAY BARTOLOME DE LAS CASAS' 'LA TINTA' 'RAXRUHA' 'ESCUINTLA'\n 'SANTA LUCIA COTZUMALGUAPA' 'SIQUINALA' 'MASAGUA' 'TIQUISATE' 'LA GOMERA'\n 'GUANAGAZAPA' 'IZTAPA' 'PALIN' 'SAN VICENTE PACAYA' 'NUEVA CONCEPCION'\n 'SIPACATE' 'SAN MARCOS' 'SAN ANTONIO SACATEPEQUEZ' 'COMITANCILLO'\n 'SAN MIGUEL IXTAHUACAN' 'CONCEPCION TUTUAPA' 'TACANA' 'SIBINAL'\n 'TAJUMULCO' 'TEJUTLA' 'SAN RAFAEL PIE DE LA CUESTA' 'NUEVO PROGRESO'\n 'EL TUMBADOR' 'SAN JOSE EL RODEO' 'MALACATAN' 'CATARINA' 'AYUTLA' 'OCOS'\n 'SAN PABLO' 'EL QUETZAL' 'LA REFORMA' 'PAJAPITA' 'IXCHIGUAN'\n 'SAN JOSE OJETENAM' 'SAN CRISTOBAL CUCHO' 'SIPACAPA'\n 'ESQUIPULAS PALO GORDO' 'RIO BLANCO' 'LA BLANCA']\n['INSTITUTO NORMAL CENTROAMERICANO PARA SEÑORITAS -INCAS-'\n 'INSTITUTO NORMAL CENTROAMERICANO PARA VARONES'\n 'COLEGIO PARTICULAR MIXTO LICEO JALAPA' ...\n 'COLEGIO PRIVADO URBANO MIXTO \"LICEO MODERNO\"'\n '\"COLEGIO EDUCATIVO MIXTO LUNA AZUL -CEMLA-\"'\n 'CENTRO EDUCATIVO \"CRISTO EL SALVADOR\" FE Y ALEGRÍA NO. 03']\n['AVENIDA CHIPILAPA 1-65, ZONA 2'\n 'CALLE TRANSITO ROJAS, 4-82, ZONA 2, BARRIO SAN FRANCISCO'\n 'CALLE TRANSITO ROJAS 7-60 ZONA 1' ... '3RA. CALLE 3-71 ZONA 1'\n '1A AV. Y 4TA. CALLE 3-32 ZONA 1' 'PARCELAMIENTO CHIQUIRINES']\n['79224268' '79224131' '79220013' ... '49582374' '57109332' '30296022']\n['JORGE ADELINO PEREZ UCELO' 'VICTOR MANUEL PORTILLO RECINOS'\n 'THELMA YANETH POLANCO PEREZ DE CAMEY'\n 'ZOILA LIGIA ELIZABETH MARTINEZ GUZMAN DE CARIAS'\n 'WALFRED ORLANDO CARPIO ARANA' 'ONEYRA JUAREZ MARROQUIN DE BARRIENTOS'\n 'NATIVIDAD DE JESUS GREGORIO MARTINEZ' 'ENA BELISA ZUÑIGA ALARCON'\n 'AMARILIS NOHEMI MENDEZ MATEO' 'IRIS VICTORIA TEO ORELLANA'\n 'MARIO LEONEL SANDOVAL MARTINEZ' 'IDALIA OLINA GONZALEZ REYES'\n 'ZOILA ESTHELA JONFE OROZCO' 'JORGE OTONIEL CRUZ SAL'\n 'MIRNA LIZETH MONTENEGRO MEZA DE MARROQUIN'\n 'IVONE ELIZABETH NAVAS BARRIOS' 'MIRNA CONSUELO VEGA SEMITE DE GOMEZ'\n 'OSCAR HUMBERTO SUBUYUJ GIL' 'ANA MELIZA CUYAN VALENZUELA'\n 'JUVENTINO PEREZ SICAN' 'WILLIAM ORLANDO SUL AJUCHAN'\n 'OSCAR YOVANY ZELADA CASTILLO' 'REYNALDO RECINOS CASTILLO'\n 'CLARA ARMIDA MORALES CASTILLO' 'AROLDO HOSBERI SOSA LÓPEZ'\n 'YURI ESTEBAN LEÓN REYES' 'MARÍA ELENA MATÍAS ANTONIO DE MONTEJO'\n 'LUIS ANTONIO HERRERA TELLO' 'AUGUSTO RENÉ CASTILLO AGUIRRE'\n 'SIMEÓN GRISDELÍ CASTILLO ALVARADO' 'DELMY ELISAMA CHAVEZ ROBLERO'\n 'JOSELINO SAMAYOA CASTILLO' 'JUAN TELÉSFORO MENDOZA MONTEJO'\n 'HUGO ROBERTO RAMIREZ RUÍZ' 'MANFREDO OTONIEL GUTIÉRREZ GÓMEZ'\n 'SEBASTIÁN PRUDENCIO HERNÁNDEZ CÁRDENAS' 'ROMEO MONTEJO DÍAZ'\n 'SAYLER RENÉ PÉREZ HERNÁNDEZ' 'PEDRO CLEMENTINO GÓMEZ GÓMEZ'\n 'OSBIN NAARY GARCÍA' 'ABELARDO MEFIBOSET VILLATORO HERRERA'\n 'RUDY AROLDO GONZÁLEZ GONZÁLEZ' 'GABINO PASCUAL GOMEZ'\n 'ELIDIO NATALIO VELÁSQUEZ MAZARIEGOS' 'ONÉSIMO ELEUTERIO GODÍNEZ JACINTO'\n 'JUAN CARLOS MORALES GONZALEZ' 'JUAN CARLOS MORALES GONZÁLEZ'\n 'AUGUSTO MANUEL ANDRES SEBASTIAN' 'AUGUSTO MANUEL ANDRÉS SEBASTIÁN'\n 'ARTEMIO NOE MORALES VILLATORO' 'LUIS FRANCISCO RAMÍREZ ORTÍZ'\n 'JOSÈ DAVID VELÀSQUEZ ANGEL' 'JOSÉ DE JESÚS CAMPOSECO MÉNDOZA'\n 'RIGOBERTO GABRIEL GONZÁLEZ MÉRIDA' 'KELVIN VIDALIN DEL VALLE MAZARIEGOS'\n 'GLADÍS ARACELY SIMÓN FRANCISCO' 'ARACELY FIGUEROA URBINA'\n 'NELVIN EZEQUIEL CASTILLO LÓPEZ'\n 'ILIANA ARGENTINA VILLATORO FUNES DE AGUSTIN'\n 'CARLOS VICENTE CARDONA MARTINEZ' 'ARTEMIO NOÉ MORALES VILLATORO'\n 'EDGAR ROLANDO AGUILAR AGUILAR' 'CARLOS HERIBERTO ESTRADA ANZUETO'\n 'ADYM ANIBAL SAMAYOA PALACIOS' 'JOSÉ DE JESÚS CAMPOSECO MENDOZA'\n 'SANDRA NINETH BONILLA ARCHILA'\n 'CECILIA ISABEL ALDECOA CASASOLA DE CASTRO' 'CARLOS HUMBERTO CRUZ ALAY'\n 'RONY ESMELTZER RAMOS QUIÑONEZ' 'EDGAR ARNULFO GONZALEZ GUDIEL'\n 'CARLOS OBDULIO OROZCO REYES' 'MYNOR YOBANY MERLOS FLORIAN'\n 'DANIEL ARTURO QUIÑONEZ SOTO' 'REMBERTO RECINOS SARCEÑO'\n 'KEVIN DANIEL SANDOVAL SALVADOR'\n 'NANSI ROSMERY MARTINEZ BARRIENTOS DE ORTIZ'\n 'RUTH CAROLINA SANABRIA ORELLANA' 'YELBELY ROXANA VEGA DONADO'\n 'JOSE ANIBAL RUANO Y RUANO' 'SANDRA PATRICIA LOPEZ DE CAMBARA'\n 'RIQUELMI SALAZAR VASQUEZ' 'MARCELINA MARTINEZ GUEVARA DE HERNANDEZ'\n 'INMER WILFREDO VELASQUEZ DOMINGUEZ' 'ARTURO CARDONA CHINCHILLA'\n 'MARA ALEIDA QUIÑONEZ Y QUIÑONEZ' 'JULIO RENE HERNANDEZ GONZALEZ'\n 'MILVIA ANGELICA MORALES ARIAS DE BARAHONA' 'CESAR AUGUSTO CUMES CERMEÑO'\n 'NERI ROLANDO CORADO CORTEZ' 'ANA AZUCENA CRUZ JIMENEZ'\n 'JORGE GOMEZ PEREZ' 'WILMER OBED RAMIREZ LINARES' 'RENE MARTINEZ ALAY'\n 'BAUDILIO LIDANY CASTILLO PINEDA' 'EDGAR LEONEL RAMIREZ GONZALEZ'\n 'ELIECER ARIEL ISMALEJ MORALES' 'NELSON JOEL HERNANDEZ HERNANDEZ'\n 'VIVIAN VERONICA PRERA NOGUERA' 'WILSON ESTUARDO CANAHUI JA'\n 'HUGO RAMIRO GONZALEZ CANAHUI' 'SERGIO OLIVERIO IBOY MENDOZA'\n 'EDGAR OVIDIO SIC XITUMUL' 'MANUEL ENRIQUE CAMAJA ALONZO'\n 'SANTOS BALTAZAR CEBALLOS' 'JORGE ARNOLDO ALVARADO PEREZ'\n 'FLORA MILIAN MILIAN DE GARCIA' 'CESAR LEONEL GRAMAJO JIMENEZ'\n 'NATALIA MILIAN ORTIZ' 'PEDRO ARMANDO CASTRO CHOCO'\n 'MARILENA HERNANDEZ CABRERA' 'ABIMAEL ACUTA ABAJ'\n 'SURAMA LISSETH RAMIREZ LOPEZ DE MORALES' 'LESLY YOLANDA PEREZ CHAMALE'\n 'EDWIN RICARDO SACRAPAL CAN' 'EDNA NOHELIA PEREZ TOJ DE LOPEZ'\n 'MARCO TULIO AJQUEJAY PICHIYA' 'ROLANDO SIMILOX SISIMIT'\n 'JULIO RENE NOTZ CUTZAL' 'EDVIN YOBANY VIELMAN ESTRADA'\n 'MARIA ISABEL HERNANDEZ BOROR DE MARTIN' 'MARIA ISABEL ORDON CAMEY'\n 'JORGE CASTRO ARMIRA' 'AGRIPINO PEREN CUTZAL' 'EDGAR LEONEL SIMON ICU'\n 'HENRY WILFREDO CHEX TZIRIN' 'LUZ MARIE BALAN MARROQUIN DE PINZON'\n 'BYRON LEONEL NOTZ CUTZAL' 'SILBIA JANETT NUÑEZ RODAS DE PESQUERA'\n 'JAIRO DANIEL BOTZOTZ MIRANDA' 'JUAN MANUEL COLO RUCUCH'\n 'LUZ MARIHELA TUJAL MAGZUL' 'ISMAEL CRISTAL AJCET'\n 'JUAN FRANCISCO COCON COY' 'ROSA MARISOL JUAREZ GRAMAJO'\n 'LIDIA SANTIZO MORALES' 'OBED NATANAHEL CASIA CHONAY'\n 'LEONOR JUAREZ CALLEJAS' 'FABIOLA CUX TAX' 'EXEQUIEL XIA SECAY'\n 'ANA LUISA AVILA GOMEZ DE LEMUS' 'MILDRED BRICEL RIVAS SIQUIN'\n 'CORINA ARGELIA RODAS SERRANO' 'LUIS FERNANDO MENDEZ GUDIEL'\n 'SONIA HAYDEE RUIZ WONG' 'HUGO WILFREDO VARGAS CHACON'\n 'CARLOS EDUARDO ECHEVERRIA SOSA' 'EDNA EDITH RAMIREZ CORDON'\n 'JORGE FRANCISCO ZABALETA MENDEZ' 'BRENDA YANETH RAMOS LOPEZ'\n 'JENNIFER MARIA BARRIENTOS CHACON' 'OSCAR OVIDIO FRANCO PAZ'\n 'FLOR DE MARIA MORALES CASTAÑEDA' 'LUIS ENRIQUE ARCHILA CASTRO'\n 'HARY EMMANUEL RAMIREZ VIDAL' 'WILBER OBDULIO MEJIA SUCHITE'\n 'BERTA ALICIA LEIVA CORDON DE GARCIA' 'YADIRA FERNANDA SOSA GUERRA'\n 'ALBA LUZ MENDEZ' 'MIGUEL AJPOP VÁSQUEZ' 'MIGUEL AJPOP VASQUEZ'\n 'SALOMÓN ANASTACIO GARCÍA BULUX' 'GLADYS ESPERANZA PACHECO GUTIERREZ'\n 'VICTOR JESUS TZIC LACAN' 'JULIAN GREGORIO SAPÓN YAX'\n 'MARTA MARIA BATZ SOCOP DE TZUL' 'NORMA NOEMI MENCHU TACAM'\n 'PABLO MALAQUIAS BATEN XILOJ' 'PEDRO JOSÉ CHÁN RALAC'\n 'MARVIN ALEJANDRO BATEN AJANEL' 'MAURICIO OSORIO TZUNUX'\n 'HEBERTO WOTZBELI PALACIOS JUC' 'JOSÉ FELICIANO PÉREZ CHAMPET'\n 'ISAURA AMPARO RECINOS CARRILLO' 'JULIA ENECON ROCA MORAN'\n 'BLANCA SARAI GUTIERREZ PINEDA' 'ZOILA ESPERANZA CAMEY ATZ'\n 'LIGIA DEL ROSARIO RICCI VELASQUEZ' 'MANUEL MARIA CANO CASTRO'\n 'ADELA VANESSA CON SUMALE' 'ROSENDA CORINA SALAY ALBIZURES'\n 'MAYRA HORTENSIA RUSTRIAN ECUTE' 'NANCY DEL ROSARIO RUANO JIMENEZ'\n 'ISMAILIA ALVIZURIS COTTO' 'PEDRO ADOLFO LUCERO ROSALES'\n 'JOSE ROBERTO ESTRADA RAMIREZ' 'CARLOS HUMBERTO GONZALEZ DE LEON'\n 'CESAR ARNOLDO MARTINEZ GARCIA' 'ROSA ALBA LOPEZ PIRIR'\n 'CESAR AUGUSTO ORTIZ HERNANDEZ'\n 'YERALDY ETELVINA DIAZ DE LEON DE CASTAÑEDA'\n 'EVELIN ARMINDA ARRIOLA RAMIREZ' 'AGUSTIN HERNANDEZ ASCUC'\n 'ALMA SALGUERO DE SALAZAR' 'SILVIA HORTENSIA GONZALEZ MARTINEZ'\n 'IXMUCANE ALDANA VILLAVICENCIO'\n 'IDALIA DEL ROSARIO LOPEZ SANDOVAL DE PAIZ' 'RENE SAZO NAVICHOQUE'\n 'ROSA ALBELIA ARDON DE MOTTA' 'EMORA EMPERATRIZ CRUZ DE FUENTES'\n 'OLGA MARINA AJQUEJAY SALOJ DE TUBAC' 'MARIA ISABEL OLIVA NAJERA'\n 'LILIANA MARINA FLORES JIMENEZ' 'MARTA LUZ BETETA ORTIZ DE JORDAN'\n 'EDGAR ALBERTO SIMON CHALI' 'FAJARDO LOPEZ MARTINEZ'\n 'CEDWIN EUGENIO CRUZ BUCARO' 'CLAUDIO DANIEL YAC OROZCO'\n 'JUAN WALDEMAR CABRERA MENDEZ'\n 'ANDREA VANESSA ALDANA VILLAGRAN DE CASTRO'\n 'RONALD MAURICIO MORALES VIVAR' 'MIGUEL ALVARO RODRIGUEZ PORTILLO'\n 'MARIA FELICITA ROQUE CARRERA' 'SILVIA MAGALY GARCIA GARCIA'\n 'LESBIA MARICELA COTZOJAY PATZAN' 'MARIO ALEJANDRO NAJARRO GARCIA SALAS'\n 'VINICIO ARNOLDO NAJERA CARDONA' 'CESAR AUGUSTO LUNA ORTIZ'\n 'EVERILDA HERNANDEZ MARROQUIN DE LORENZANA'\n 'CRISTOBAL DE JESUS SANTIZO ROSALES' 'RONY ESTUARDO AREVALO CASTILLO'\n 'JERVIN ARSENIO FIGUEROA DUBON' 'ALMA ROSA MARQUEZ ROSALES'\n 'SILVIA EUGENIA VALDEZ MONTERROSO DE CARBALLO'\n 'LUBIA DINETT CARAVANTES RODRIGUEZ'\n 'BRENDA ISOLDA CONTRERAS ALVA DE LOPEZ' 'ELSA PATRICIA DE LEON MEJIA'\n 'KARLA MYREA SUAREZ PIEDRASANTA' 'HAROLDO ENRIQUE NAVAS PAZ'\n 'JUAN ENRIQUE MARTINEZ SOLANO' 'LILIANA LETICIA DUBON ESPINOZA'\n 'ANNY VICTORIA PERDOMO VILLATORO' 'DINIZ ORALIA MORALES MUÑOZ'\n 'BENIGNO ISAIAS DE LEON OROZCO' 'HECTOR RAUL ESCUN VIDES'\n 'GLADYS IDALMA CHAVARRIA NIJ' 'DORA BEATRIZ BARRIOS CRUZ'\n 'ARGELIA DE JESUS ACOSTA SOZA' 'INGRID ELIZABETH PEÑA TRUJILLO'\n 'LUZ ANTONIA POCON CARRILLO' 'MIRIAM DEL CARMEN OROZCO HERNANDEZ'\n 'SERGIO ALEJANDRO VILLATORO VILLAGRAN' 'ADRIANA FABIOLA BOLAÑOS ESTRADA'\n 'ELISEO DANIEL ALVAREZ NATARENO' 'CARLOS ANIBAL LOPEZ'\n 'BRYAN ONELL GAITAN RODRIGUEZ' 'MARTA LISBETH CUMATZ RAMIREZ'\n 'JULIO JACOBO GIL URBINA' 'ALBA MARICELA JOR PORTILLO'\n 'DALLANA ZUHEIDY FLORES CHINCHILLA' 'ALFREDO NOHELI TEMAJ MORALES'\n 'PEDRO GERÓNIMO SARAT CHAJ' 'JUAN CARLOS RONQUILLO DE LEON'\n 'ROSEMERY GUADALUPE PIEDRASANTA GRAMAJO DE SIGUENZA'\n 'OBDULIO ROLANDO RUIZ ALVA' 'DINA RUBI GONZALEZ DE LEON'\n 'WILSON RANFERI SIGUENZA LOPEZ' 'IRIS ONDINA HERNANDEZ ROJAS DE SOTO'\n 'JUAN JOSE COLOP COLOP' 'GILDARDO HERIBERTO HERNANDEZ LOPEZ'\n 'INGRID MIRTHALA LOPEZ GALINDO' 'URSULO ROSARIO MAZARIEGOS CIFUENTES'\n 'WILFREDO PIOX TECÚ' 'ESTEBAN ALBERTO DE LEON SANTOS'\n 'AIDÁN BERSABÉ ORDÓÑEZ UTUY' 'ISRAEL MANUEL LOPEZ BATEN'\n 'MARIO RENE PEREZ LOPEZ' 'GUILLERMO ANTONIO DEL VALLE MONTERROSO'\n 'JAIME IVAN GODINEZ VELASQUEZ' 'JORGE MARIO ROJAS FERNANDEZ'\n 'CARLOS OSBALDO DURINI OCHOA' 'FRANCISCO FAUSTINO LOPEZ OROZCO'\n 'MANUEL PASCUAL CASTRO GARCIA' 'JUAN SEBASTIAN MENDEZ RAMIREZ'\n 'MANUEL DE JESÚS SOTO' 'RUDY GARCIA GONZALEZ'\n 'JUAN JOSE VASQUEZ CALDERON' 'WILIAM OTONIEL QUIXTAN CASTRO'\n 'MANFIELD FRANCISCO CASTAÑON DE LEON' 'LUZ LORENY JÁREZ CIFUENTES'\n 'DAVID FEDERICO CIFUENTES HURTADO' 'YOMAR EFRAIN FLORES BARBERENA'\n 'ELSY GREES LOPEZ GOMEZ' 'ANA MARGARITA LLARENA GARCÍA'\n 'ESTEBAN FABIAN JOACHIN LOPEZ' 'AMADO SALOMON FLORES PEREZ'\n 'NORMA ARACELY PALOMO FRANCO DE DIAZ' 'MARIANO DOMINGO ESTRADA TELETOR'\n 'AURA MARINA GARRIDO MORALES' 'ERICK ESTUARDO SANCHEZ ARCHILA'\n 'LEONEL AMILCAR RIOS FUENTES' 'ISIS IRAZEMA CANEL PALMA'\n 'CLAUDIA PATRICIA RUIZ CASASOLA DE ESTRADA' 'LESLIE AZUCENA MONZON TECUN'\n 'ZIZI ARELY LOPEZ CHINCHILLA' 'MARIA ESTELA MARROQUIN CHUR DE ORTEGA'\n 'ROSA GEORGINA RIOS CASTILLO' 'SE ELIMINO EL DISTRITO' 'VACANTE VACANTE'\n 'SANDRA LIZZETH CRUZ IZAGUIRRE' 'HECTOR EDELMIRO FLORES BRINGUEZ'\n 'ERICK GUILLERMO SANCHEZ MARTINEZ' 'PLINIO IVAN HERNANDEZ'\n 'DAVID SOTOJ SANCHEZ' 'FEDERICO ESTUARDO IRUNGARAY SAMAYOA'\n 'MARIA DEL ROSARIO VARGAS SANDOVAL' 'MARIA TERESA MILIAN AVILES'\n 'GRISELDA LISETH FRANCO GUTIERREZ' 'ORLANDO ERCILIO GIRON ALVAREZ'\n 'JULIO PEREZ GUTIERREZ' 'LILIAN NINETH TEOS REYES'\n 'MARIA ELENA LACAN HUITZ DE DE LA CRUZ' 'SANTOS VICTORINO VASQUEZ PAXTOR'\n 'ZUHILEM YESENIA ESTRADA ORTIZ' 'ISRAEL PORTILLO HERNANDEZ'\n 'REYNA DEL ROSARIO CHAVEZ BARROW DE PACHECO'\n 'JUANA MARIA CIFUENTES PEREZ' 'GLODY SUCELY OSORIO FIGUEROA DE MORALES'\n 'ERWIN RIGOBERTO AVILA' 'CARLOS FILEMON SAMAYOA MADRID'\n 'RANDY YESID FIGUEROA SOLIS' 'CARLOS EMELITON VALENZUELA MARROQUIN'\n 'FREDY STUARDO QUIÑONEZ' 'JOSE ENRIQUE LOPEZ RAZAM'\n 'MARIA JOSE ARANGO VICENTE' 'PERLITA CELESTE RODRIGUEZ SOLVAL'\n 'MARIA VICTORIA RODRIGUEZ SERRANO DE CARDENAS'\n 'MAYNOR RENE SAQUIC ESPINOZA' 'ANTONIO TUMAX SAC'\n 'ELMO ROGELIO RODRIGUEZ ORELLANA' 'MELBA PATRICIA RAMOS CRUZ DE ALONZO'\n 'MILDRED JANETH DE LEON MENDEZ DE FUENTES'\n 'JAIRO ATANAEL BENAVENTE TOBAR' 'ERICK ROBERTO SANTIS FIGUEROA'\n 'CARLOS ENRIQUE JALEL DE LOS SANTOS' 'CESAR ADALBERTO NOGUERA JACOME'\n 'SILVIA MARILENA BUEZO MARTINEZ' 'VILMA ESPERANZA LOPEZ INTERIANO'\n 'FRANCISCO JAVIER GUERRA PAZOS' 'BYRON HORACIO SARCEÑO ZEPEDA'\n 'BLANCA ROSA MORALES DE GUTIERREZ' 'LUIS GUSTAVO SAGASTUME CONTRERAS'\n 'SERGIO ESTUARDO MEDINA GUDIEL' 'JUAN DE DIOS MONROY RAMIREZ'\n 'ROSARIO RIVAS VILLAFUERTE' 'SERGIO ARTURO PACHECO MARROQUIN'\n 'OSWALDO RAFAEL SALINAS BRENES' 'ELDER RENE FERNANDEZ FLORES'\n 'ANGEL FRANCISCO ESPINA MONROY' 'JORGE ALBERTO SAAVEDRA LOPEZ'\n 'ANGELA DEL ROSARIO GARCIA MARCOS' 'CESAR HELAMAN GARCIA LOPEZ'\n 'NILDA MARITZA ARROYO RODRIGUEZ' 'EDGAR ANIBAL MENENDEZ VELASQUEZ'\n 'MIGUEL ANGEL ARMAS ROCHA' 'JULIO CÉSAR HERRERA ROLDÁN'\n 'LISBETH SURAMA LOPEZ CALVILLO' 'MIRTA ALIDA CASTELLANOS MARROQUIN'\n 'MARIO RENE RIVERA ARGUETA' 'ESTELA BEN AJCALÓN DE TUY'\n 'VÍCTOR MIGUEL MENCHÚ MENCHÚ' 'VÍCTOR CHUMIL CHIROY'\n 'CARLOS RIGOBERTO POS TUY' 'FREDY EDGAR LEONEL URIZAR RODRIGUEZ'\n 'JUSTO SANTIAGO PONCIO PÚ' 'MAGDALENA SOSA TZOC DE TUJ'\n 'ARCADIA PATRICIA SAQUIC YÁC DE YAC' 'GREGORIO HERNAN CUMATZ HERNANDEZ'\n 'MAXIMILIANO LÓPEZ CRISTOBAL' 'MANUEL IXTÓS MÁS' 'MANUEL CHOVÓN GUACHIAC'\n 'IDELFONSO JERÓNIMO AMBROCIO TAMBRIZ' 'ENRIQUE RAFAEL CHIYAL TÓ'\n 'JUAN UJPÁN RODENO' 'PORFIRIO GEREMIAS PAR CHAVAJAY'\n 'EDWIN WILFREDO AJCALÓN YAXÓN' 'ANGEL ARMENIO LETONA GALINDO'\n 'ADA LORENA HERNÁNDEZ AGUILAR' 'AMARILIS EVELYN SALANIC SAC'\n 'MANUEL EDUARDO CHOLOTIO COCHE' 'JUAN POP CHAVAJAY'\n 'IRMA YOLANDA CHACON ARROYO' 'JORGE BALDOMERO GONZALEZ BARRERA'\n 'ABNER WILFREDO MARTINEZ ARGUETA' 'DELIA JUDITH HERNANDEZ CARIAS'\n 'TELMA CECIBEL GARCIA AGUILAR DE ORANTES' 'PABLO DE JESUS SANTOS ALVAREZ'\n 'MIRNA ARACELY MORALES ALVAREZ DE CAMEY' 'ADELSO FRANCO FLORES'\n 'EDVIN HERLINDO SITAVI AVILA' 'JOSE DOMINGO SALAZAR CARIAS'\n 'SIRIA ILEANA GONZALEZ REYES DE SIERRA' 'JOSE ALBERTO LOPEZ PEREZ'\n 'JOSE OBDULIO BLANCO MEJIA' 'FELICIANO GARCIA BENITO'\n 'MONICA CECILIA RAMIREZ GALLARDO' 'ELSA ANIDALIA VASQUEZ PEREZ DE LOPEZ'\n 'WENDY PAOLA MORALES MEJIA DE LOPEZ' 'CESAR EFRAIN BARRERA Y BARRERA'\n 'ROBERTO GALVEZ DONIS' 'JOEL ESTUARDO POCASANGRE FONG'\n 'JOSE OSCAR TIPAZ VELASQUEZ' 'GONZALO VENTURA LUX'\n 'GREGORIO LOL HERNANDEZ' 'JUAN LEON PONCIO'\n 'SEBASTIANA CHIVALAN GONZALEZ' 'MARVIN ELI RAMOS ROSALES'\n 'HUGO LEONEL BLANCO AGUILAR' 'MARTA CELIA VENTURA RAMIREZ'\n 'RUTH AMARILIS TZUNUN PEREZ DE CALEL'\n 'ANA MARIA URIZAR CHAVEZ DE ROSALES' 'JUAN QUINILLA US'\n 'CLAUDIA CLEODOMIRA QUIÑONEZ MENDEZ' 'LUIS FERNANDO GIL GONZALEZ'\n 'TOMAS GARCIA PEREZ' 'BAYRON ROLANDO VILLATORO NORIEGA'\n 'ANA ESTER URIZAR GIL DE VILLATORO' 'OSBERTO FILADELFO RUIZ URIZAR'\n 'JACINTO GOMEZ CEDILLO' 'FERNANDO PEDRO LOPEZ DE LEON'\n 'FELIX GASPAR CEDILLO CETO' 'SANTOS REYES DE PAZ CRUZ'\n 'FERNANDO ROGELIO LOPEZ GALINDO' 'CELESTINO COY MACZ'\n 'FELIX AZAEL HERRERA DIAZ' 'MANUEL LOPEZ CHIVALAN'\n 'JOSE OSWALDO VASQUEZ AJIATAZ' 'BYRON ESTUARDO SILVERIO ZAPETA REYNOZO'\n 'JAVIER LUX CHIVALAN' 'FRANCISCO VICENTE ICHOP' 'JUAN ALFREDO LEM CAJ'\n 'JOSE ALBERTO HERNANDEZ GAMARRO' 'TOMÁS SÁNCHEZ GÓMEZ'\n 'APOLONIO GONZALEZ' 'ANTONIO CALIXTO IXCOTAYAC LUX'\n 'AMBROCIO PASTOR CAAL' 'LUCAS IQUI CAHUEC' 'ERIK ISRAEL GIRON JUAREZ'\n 'CYNTHIA AZUCELLY BARRIENTOS LOPEZ' 'ELENA ELIZABETH SUCHITE GARNICA'\n 'MONICA LISETH DUARTE MEJIA' 'DANY ARELY IBARRA MEJIA'\n 'RUBEN ALFREDO MAZARIEGOS VASQUEZ' 'LORENZO VILLANUEVA COY'\n 'LEYVIMARLOT ENRIQUEZ ESPINOZA DE MORALES' 'JUAN OSVALDO ESTERO MARTINEZ'\n 'DEYSI YANNETH LINARES CALLES DE ENRIQUEZ' 'AXEL RAFAEL GARCIA VALDEZ'\n 'HUGO LEONEL RAMOS CANTE' 'SILVERIO CHITOP CABRERA'\n 'MIGUEL ANGEL GONZALEZ LEMUS' 'RAQUEL MAZARIEGOS GARCIA'\n 'KELVIN RODRIGO HERNANDEZ MARTINEZ' 'NANCY CAROLA GAMEZ ORTIZ DE RAMIREZ'\n 'BLANCA DINA RIVAS LOYO DE SANTIAGO'\n 'LESBIA MARELI SANTOS PANCAN DE SUCHITE' 'ODETH ARELI GUERRA SOSA'\n 'ERWIN ARDANI BARRERA PALMA' 'KARLA JULISSA GARCIA LEMUS DE MIRANDA'\n 'SONIA IVANIA COROY CASTAÑEDA' 'EDGAR RUDY MORALES GODINEZ'\n 'MARTA ELIDA CARIAS HERNANDEZ DE GARCIA'\n 'SILVIA CONSUELO GAMARRO HERRERA DE JUAREZ'\n 'ILEANA HORTENCIA CASASOLA OLIVA' 'ALBA MARIA LOPEZ'\n 'JACKSON AMAGGI MORALES MACAL' 'FLOR MARICELA VEGA GUDIEL DE DE LEÓN'\n 'CARLOTA EUGENIA ALBUREZ AGUILAR' 'OSMAR JOSUE GONZALEZ HERNANDEZ'\n 'MARTA ALICIA CRUZ PEREZ' 'ALVARO ISMAEL GUZMAN PACHECO'\n 'SANTIAGO CRUZ SERRANO' 'LILIA SAUDITA SUNTECUN CHAN DE VITZIL'\n 'FERNANDO RAFAEL LEAL CORDOVA' 'GUSTAVO ADOLFO REYNOSO HERRERA'\n 'CLAUDIA LUCRECIA ROSALES PECHE' 'FILIBERTO FIDEL PEREZ DE LEON'\n 'GREGORIO ENRIQUE ARGUETA SAMAYOA' 'JULIA NAJERA PEREZ'\n 'ALFONZO CLAUDIO SALES' 'VILMA ARACELY GARCIA CRISOSTOMO'\n 'MARTIR FABIAN MANGANDID' 'ALVIS ORLANDO CORADO CARRILLO'\n 'BRAULIO AMILCAR CHAN TESUCUN' 'BARBARA JULIA IVONE LOPEZ VARGAS'\n 'EDWIN HUMBERTO MONTERO ALDANA' 'DEYLIN ANTONIO ALVAREZ ALDANA'\n 'MARIO AROLDO GUZMAN ALDANA' 'OCTAVIO LONE GUERRA'\n 'HECTOR DAVID MAYEN MILIAN' 'DAMIAN AC CAHUEC'\n 'MANUEL BARTOLOME GUTIERREZ' 'RENE XUC PACHAM' 'RODERICO DE LA CRUZ ICAL'\n 'GABINO CAAL QUIB' 'RODOLFO MEDINA' 'NAZARIO BONIFACIO POP ICAL'\n 'AMILZA AMILAY RODRIGUEZ GONZALEZ DE DUBON'\n 'JUAN FRANCISCO OLIVA ESTRADA' 'CARMEN NEDITA NATARENO PADILLA'\n 'JOSE FRANCISCO OLAN PONCE' 'FIDEL OMAR HERNANDEZ RAMIREZ'\n 'MARIO ZELAYA DARDON' 'DOMINGA GARCIA RAYMUNDO'\n 'MERCEDES JOSEFINA TORRES GALVEZ' 'EFRAIN CAAL CUC'\n 'WHOLFANG ALEXANDER PONCE SIERRA' 'JUVENTINA ALVARADO PEREZ'\n 'MAXIMILIANO CHUB ICAL' 'OLGA MARINA BUC' 'ARMANDO AUDILIO POP CUCUL'\n 'WILSON EDWIN OSWALDO CAAL CHO' 'JORGE ALBERTO CAAL BOL'\n 'MANUEL VELIZ QUEJ' 'BENJAMIN JUC BOTZOC' 'CARLOS ENRIQUE GARCIA BAILEY'\n 'JOSE LUIS XI CUCUL' 'OSCAR ANIBAL GARCIA HUMBLERS'\n 'ABNER DAVID CHIQUN TURCIOS' 'JORGE ERWIN CUCUL QUIB'\n 'DULLIER CLEMENTE BOL BAC' 'PEDRO BOTZOC CUC' 'OSCAR RENE VENTURA ZAC'\n 'FREDY OSWALDO TEYUL CHIQUIN' 'BERTHA ELENA POP HO'\n 'ERVIN RODOLFO BIN BURMESTER' 'HORACIO WALDEMAR JUAREZ ARGUETA'\n 'JAIME RICARDO VAIDES MEZA' 'JOSE ARTURO CHOC CHEN'\n 'MYNOR DANILO TORRES JUAREZ' 'ELDER ERASMO COY DUERING'\n 'CECILIO DADAI OVANDO AZURDIA' 'TEODORO ALBERTO PEREZ DUERING'\n 'JORGE EDUARDO PAQUE LAZARO' 'EDETANO OXOM YAT'\n 'NELY MAGALY QUIJADA AYALA' 'ELMER DUBAN ALVARADO JASSE'\n 'HERMELINDO COC CHUB' 'MIGUEL ANGEL CHOCOOJ DE LA CRUZ'\n 'REMY ARTURO SINAY GUDIEL' 'CLAUDIA YADIRA GUZMAN MONTEPEQUE DE AREVALO'\n 'JUAN ALBERTO MACHUCA ALVAREZ' 'JUAN FRANCISCO GODOY DAVILA'\n 'KARLA MARISOL MARTINEZ AVILA DE MELGAR' 'ENMANUEL IVAN ESTRADA ARROYO'\n 'IRMA EUGENIA SANTIZO FLORES DE GIL' 'PAULINA VICENTE LOBO'\n 'FAUSTINO CHIQUE VALENZUELA' 'MABELLINE DAHAN ALDANA RODAS DE PINZON.'\n 'PEDRO CHACH AMBROCIO' 'JENIFER LISSETH GODINEZ SAMAYOA'\n 'TELMA ENRIQUETA GRAJEDA MARTINEZ'\n 'CLAUDIA LISETH CEBALLOS CASTILLO DE VILLALOBOS'\n 'ESTHER AVIGAIL YUMAN ALVIZURES DE LOPEZ' 'LEIDI LILIANA ANAVIZCA ARIAS'\n 'JAIME ANTULIO ESTRADA SOTO' 'ERICK OMAR SURIANO CARRILLO'\n 'ENIO RELMAN MALDONADO SOLIS' 'HELIUV EDILZAR VASQUEZ NAVARRO'\n 'JORGE EBERTO SOLORZANO SANCHEZ' 'VIOLETA FLORIDALMA FUENTES QUIROA'\n 'LUIS ALFREDO MAZARIEGOS SCOT' 'LUCRECIA MARISOL OROZCO ROBLES DE CHILEL'\n 'RUDY RENE VELASQUEZ Y VELASQUEZ' 'AMILSA YAMILETH ESTRADA RODRÍGUEZ'\n 'NERY ANDELINO RAMIREZ OROZCO' 'OSBERTO MOISES CINTO VELASQUEZ'\n 'VICTOR MANUEL AGUILON CRISOSTOMO' 'SIMEON JACOBO PEREZ DOMINGO'\n 'AUGUSTO CLAUDIO CINTO MEJIA' 'LUCIO JOEL GARCIA JUAREZ'\n 'JOSUE MANFREDO DE LEON LOPEZ' 'MISAEL ELICEO MORALES RAMOS'\n 'RICARDO HUGO MENDEZ PEREZ' 'EDELFO ISAAC DIAZ MACARIO'\n 'HERMINIA EGIDIA GOMEZ VELASQUEZ' 'AMILCAR OSBALDO GONZALEZ NAJERA'\n 'AZALIA AIDE VELASQUEZ MAZARIEGOS' 'MARIO AUGUSTO RECINOS VILLATORO'\n 'RUDY RUBEN PEREZ PEREZ' 'AMADO BEATO ESCALANTE GONZALEZ'\n 'ROSALINDA VITALINA JIMENEZ PEREZ' 'ALBERTO ANTONIO ORTIZ MONZON'\n 'EVELSAIN EUSEBIO HERNANDEZ ZAPET'\n 'SOFIA DEL PILAR CARREDANO ROMERO DE BARRIOS' 'ANTONY HAMILTON DE LEON'\n 'HEIDY NOEMI MONTUFAR GOMEZ DE SERRANO' 'ELIAS NOÉ REYNA DE LEÓN'\n 'MARLENY CELESTE CARREDANO ROMERO DE GARCIA'\n 'FULVIA LILIANA OROZCO Y OROZCO DE GARCIA'\n 'MILTON CONSTANTINO GIRÓN MONTIEL' 'ANGEL DIONEL BARRIOS LOPEZ'\n 'LUIS EMILIO LEÓN CALVILLO' 'ARTURO GAMALIEL BARRIOS TUELLS'\n 'OSCAR LEONEL OROZCO MONZON' 'SANDRA PATRICIA BARRIOS BONILLA'\n 'CESAR AUGUSTO AMBROCIO GUTIERREZ'\n 'ALCIRA ARGENTINA FLORES GONZALES DE MAYORGA'\n 'ROMULO AUGUSTO TUL MAZARIEGOS' 'JUAN JOSÉ TOBAR TEBALAN'\n 'ERIBERTO BALDOMERO MONZON MENDEZ' 'RUDY ARMANDO SANIC CHALI'\n 'ONEYDA MARICELY LICARDIE DE LEON DE MORAN'\n 'CESAR AUGUSTO RODRIGUEZ CHILEL'\n 'DINA CLAUDETH MUÑOZ MALDONADO DE GUTIERREZ'\n 'RUDY AMILCAR REQUENA GODÍNEZ' 'LUIS FERNANDO SANCHEZ SILVA'\n 'DELFINO ELISEO MALDONADO GAVARRETE' 'LUIS EMILIO CHAVEZ PEREZ'\n 'ALBERTO LUCAS MARTIN' 'CÉSAR LEONEL RAMIREZ GALICIA'\n 'IDILIO ALEJO OROZCO MENDEZ' 'EDELMAR AMILCAR LOPEZ MIRANDA'\n 'ESTEBAN FELIX RAMIREZ' 'HORACIO ROLANDO OROZCO VASQUEZ'\n 'MANFREDO WALDEMAR CHILEL PEREZ' 'AMILCAR ROCAEL VELASQUEZ OROZCO'\n 'JUAN JOSE TOBAR TEBALAN']\n['IRIS JANNETTE AGUIRRE CONTRERAS'\n 'LISI KARINA ISABEL ESCOBAR ESPINOZA DE LUCERO'\n 'EFRAÍN DE JESÚS SALAZAR PERALTA' ... 'GERMAN DANIEL MÉRIDA JOACHÍN'\n 'MARVIN FERNANDO RODRÍGUEZ MALDONADO'\n 'BETY PATRICIA OXLAJ PÉREZ DE LÓPEZ']\n['DIVERSIFICADO']\n['OFICIAL' 'PRIVADO' 'COOPERATIVA' 'MUNICIPAL']\n['URBANA' 'RURAL' 'SIN ESPECIFICAR']\n['ABIERTA' 'CERRADA TEMPORALMENTE' 'TEMPORAL TITULOS']\n['MONOLINGUE' 'BILINGUE']\n['VESPERTINA' 'MATUTINA' 'NOCTURNA' 'DOBLE' 'SIN JORNADA' 'INTERMEDIA']\n['DIARIO(REGULAR)' 'FIN DE SEMANA' 'A DISTANCIA'\n 'SEMIPRESENCIAL (UN DÍA A LA SEMANA)'\n 'SEMIPRESENCIAL (DOS DÍAS A LA SEMANA)' 'SEMIPRESENCIAL'\n 'VIRTUAL A DISTANCIA' 'INTERCALADO' 'SEMIPRESENCIAL (FIN DE SEMANA)'\n 'DOMINICAL' 'MIXTO' 'SABATINO' 'IRREGULAR']\n['JALAPA' 'SACATEPÉQUEZ' 'HUEHUETENANGO' 'JUTIAPA' 'BAJA VERAPAZ'\n 'CHIMALTENANGO' 'ZACAPA' 'TOTONICAPÁN' 'GUATEMALA NORTE'\n 'GUATEMALA ORIENTE' 'GUATEMALA OCCIDENTE' 'GUATEMALA SUR'\n 'QUETZALTENANGO' 'SUCHITEPÉQUEZ' 'CHIQUIMULA' 'RETALHULEU' 'SOLOLÁ'\n 'SANTA ROSA' 'QUICHÉ' 'QUICHÉ NORTE' 'IZABAL' 'EL PROGRESO' 'PETÉN'\n 'ALTA VERAPAZ' 'ESCUINTLA' 'SAN MARCOS']\n",
     "output_type": "stream"
    }
   ],
   "execution_count": null
  },
  {
   "cell_type": "code",
   "metadata": {
    "cell_id": "810e97337d7049e0a88b4ca4d35b98d9",
    "tags": [],
    "deepnote_to_be_reexecuted": false,
    "source_hash": "a02f7802",
    "execution_start": 1660343326962,
    "execution_millis": 105,
    "deepnote_cell_type": "code",
    "deepnote_cell_height": 113.1875
   },
   "source": "list(df[\"STATUS\"].unique())",
   "outputs": [
    {
     "output_type": "execute_result",
     "execution_count": 5,
     "data": {
      "text/plain": "['ABIERTA', 'CERRADA TEMPORALMENTE', 'TEMPORAL TITULOS']"
     },
     "metadata": {}
    }
   ],
   "execution_count": null
  },
  {
   "cell_type": "code",
   "metadata": {
    "cell_id": "1d29411a47de47388e082307dd7e5632",
    "tags": [],
    "deepnote_to_be_reexecuted": false,
    "source_hash": "f2aba86a",
    "execution_start": 1660343326963,
    "execution_millis": 104,
    "deepnote_cell_type": "code",
    "deepnote_cell_height": 113.1875
   },
   "source": "list(df[\"MODALIDAD\"].unique())",
   "outputs": [
    {
     "output_type": "execute_result",
     "execution_count": 6,
     "data": {
      "text/plain": "['MONOLINGUE', 'BILINGUE']"
     },
     "metadata": {}
    }
   ],
   "execution_count": null
  },
  {
   "cell_type": "code",
   "metadata": {
    "cell_id": "4e27e00ed5334cd2beca746c92ca8a6b",
    "tags": [],
    "deepnote_to_be_reexecuted": false,
    "source_hash": "f9ad5053",
    "allow_embed": false,
    "execution_start": 1660343326964,
    "execution_millis": 103,
    "deepnote_cell_type": "code",
    "deepnote_cell_height": 113.1875
   },
   "source": "list(df[\"JORNADA\"].unique())",
   "outputs": [
    {
     "output_type": "execute_result",
     "execution_count": 7,
     "data": {
      "text/plain": "['VESPERTINA', 'MATUTINA', 'NOCTURNA', 'DOBLE', 'SIN JORNADA', 'INTERMEDIA']"
     },
     "metadata": {}
    }
   ],
   "execution_count": null
  },
  {
   "cell_type": "code",
   "metadata": {
    "cell_id": "661d5d65a1e74dfd9d113268b0d56e55",
    "tags": [],
    "deepnote_to_be_reexecuted": false,
    "source_hash": "bf8cb360",
    "allow_embed": false,
    "execution_start": 1660343326968,
    "execution_millis": 109,
    "deepnote_cell_type": "code",
    "deepnote_cell_height": 343.4375
   },
   "source": "list(df[\"PLAN\"].unique())",
   "outputs": [
    {
     "output_type": "execute_result",
     "execution_count": 8,
     "data": {
      "text/plain": "['DIARIO(REGULAR)',\n 'FIN DE SEMANA',\n 'A DISTANCIA',\n 'SEMIPRESENCIAL (UN DÍA A LA SEMANA)',\n 'SEMIPRESENCIAL (DOS DÍAS A LA SEMANA)',\n 'SEMIPRESENCIAL',\n 'VIRTUAL A DISTANCIA',\n 'INTERCALADO',\n 'SEMIPRESENCIAL (FIN DE SEMANA)',\n 'DOMINICAL',\n 'MIXTO',\n 'SABATINO',\n 'IRREGULAR']"
     },
     "metadata": {}
    }
   ],
   "execution_count": null
  },
  {
   "cell_type": "code",
   "metadata": {
    "cell_id": "429befe7046e40a0b167b8a3f77de7eb",
    "tags": [],
    "deepnote_to_be_reexecuted": false,
    "source_hash": "8ad661e2",
    "execution_start": 1660343326968,
    "execution_millis": 109,
    "deepnote_cell_type": "code",
    "deepnote_cell_height": 592.875
   },
   "source": "list(df[\"DEPARTAMENTAL\"].unique())",
   "outputs": [
    {
     "output_type": "execute_result",
     "execution_count": 9,
     "data": {
      "text/plain": "['JALAPA',\n 'SACATEPÉQUEZ',\n 'HUEHUETENANGO',\n 'JUTIAPA',\n 'BAJA VERAPAZ',\n 'CHIMALTENANGO',\n 'ZACAPA',\n 'TOTONICAPÁN',\n 'GUATEMALA NORTE',\n 'GUATEMALA ORIENTE',\n 'GUATEMALA OCCIDENTE',\n 'GUATEMALA SUR',\n 'QUETZALTENANGO',\n 'SUCHITEPÉQUEZ',\n 'CHIQUIMULA',\n 'RETALHULEU',\n 'SOLOLÁ',\n 'SANTA ROSA',\n 'QUICHÉ',\n 'QUICHÉ NORTE',\n 'IZABAL',\n 'EL PROGRESO',\n 'PETÉN',\n 'ALTA VERAPAZ',\n 'ESCUINTLA',\n 'SAN MARCOS']"
     },
     "metadata": {}
    }
   ],
   "execution_count": null
  },
  {
   "cell_type": "markdown",
   "source": "Modificaciones a la columna \"Plan\"",
   "metadata": {
    "formattedRanges": [],
    "is_collapsed": false,
    "cell_id": "99abfc7f26dc421787c7f846b3075e8e",
    "tags": [],
    "deepnote_cell_type": "text-cell-p"
   }
  },
  {
   "cell_type": "code",
   "metadata": {
    "cell_id": "213b5635f0564c4392cb6618b6124cf1",
    "tags": [],
    "deepnote_to_be_reexecuted": false,
    "source_hash": "5becba67",
    "execution_start": 1660343326973,
    "execution_millis": 12,
    "deepnote_cell_type": "code",
    "deepnote_cell_height": 117
   },
   "source": "df['PLAN'] = df['PLAN'].replace(['DOMINICAL', 'SABATINO'],'FIN DE SEMANA')\ndf['PLAN'] = df['PLAN'].replace(['VIRTUAL A DISTANCIA'],'A DISTANCIA')\ndf['PLAN'] = df['PLAN'].replace(['SEMIPRESENCIAL (UN DÍA A LA SEMANA)', 'SEMIPRESENCIAL (DOS DÍAS A LA SEMANA)', 'INTERCALADO'],'SEMIPRESENCIAL')",
   "outputs": [],
   "execution_count": null
  },
  {
   "cell_type": "markdown",
   "source": "Unificar valores \"Dominical y Sabatino\" como valor Fin de semana",
   "metadata": {
    "formattedRanges": [],
    "is_collapsed": false,
    "cell_id": "7b73ede8eb5a4422be64080b04351772",
    "tags": [],
    "deepnote_cell_type": "text-cell-p"
   }
  },
  {
   "cell_type": "code",
   "metadata": {
    "cell_id": "bec6d27569184df68165c45a77de3654",
    "tags": [],
    "deepnote_to_be_reexecuted": false,
    "source_hash": "76e0dcd6",
    "execution_start": 1660343326996,
    "execution_millis": 82,
    "deepnote_cell_type": "code",
    "deepnote_cell_height": 151.5625
   },
   "source": "df[\"PLAN\"].unique()",
   "outputs": [
    {
     "output_type": "execute_result",
     "execution_count": 11,
     "data": {
      "text/plain": "array(['DIARIO(REGULAR)', 'FIN DE SEMANA', 'A DISTANCIA',\n       'SEMIPRESENCIAL', 'SEMIPRESENCIAL (FIN DE SEMANA)', 'MIXTO',\n       'IRREGULAR'], dtype=object)"
     },
     "metadata": {}
    }
   ],
   "execution_count": null
  },
  {
   "cell_type": "markdown",
   "source": "Unificar todos los directores faltantes, que contienen '-' en distintas longitudes para que aparezcan con un string vacío",
   "metadata": {
    "formattedRanges": [],
    "is_collapsed": false,
    "cell_id": "8121ad2ec5ad4c5bb72dbcc7d6c29125",
    "tags": [],
    "deepnote_cell_type": "text-cell-p"
   }
  },
  {
   "cell_type": "code",
   "metadata": {
    "cell_id": "e17982a98afe4907a1151455938e467b",
    "tags": [],
    "deepnote_to_be_reexecuted": false,
    "source_hash": "b45ac221",
    "execution_start": 1660343326999,
    "execution_millis": 81,
    "deepnote_cell_type": "code",
    "deepnote_cell_height": 612
   },
   "source": "df.loc[df['DIRECTOR'].str.contains('-')]",
   "outputs": [
    {
     "output_type": "execute_result",
     "execution_count": 12,
     "data": {
      "application/vnd.deepnote.dataframe.v3+json": {
       "column_count": 17,
       "row_count": 307,
       "columns": [
        {
         "name": "CODIGO",
         "dtype": "object",
         "stats": {
          "unique_count": 307,
          "nan_count": 0,
          "categories": [
           {
            "name": "21-07-0080-46",
            "count": 1
           },
           {
            "name": "03-01-0091-46",
            "count": 1
           },
           {
            "name": "305 others",
            "count": 305
           }
          ]
         }
        },
        {
         "name": "DISTRITO",
         "dtype": "object",
         "stats": {
          "unique_count": 179,
          "nan_count": 0,
          "categories": [
           {
            "name": "01-403",
            "count": 14
           },
           {
            "name": "01-307",
            "count": 6
           },
           {
            "name": "177 others",
            "count": 287
           }
          ]
         }
        },
        {
         "name": "DEPARTAMENTO",
         "dtype": "object",
         "stats": {
          "unique_count": 21,
          "nan_count": 0,
          "categories": [
           {
            "name": "CIUDAD CAPITAL",
            "count": 102
           },
           {
            "name": "ALTA VERAPAZ",
            "count": 49
           },
           {
            "name": "19 others",
            "count": 156
           }
          ]
         }
        },
        {
         "name": "MUNICIPIO",
         "dtype": "object",
         "stats": {
          "unique_count": 124,
          "nan_count": 0,
          "categories": [
           {
            "name": "ZONA 1",
            "count": 71
           },
           {
            "name": "COBAN",
            "count": 11
           },
           {
            "name": "122 others",
            "count": 225
           }
          ]
         }
        },
        {
         "name": "ESTABLECIMIENTO",
         "dtype": "object",
         "stats": {
          "unique_count": 207,
          "nan_count": 0,
          "categories": [
           {
            "name": "INSTITUTO NACIONAL DE EDUCACION DIVERSIFICADA",
            "count": 71
           },
           {
            "name": "INSTITUTO NACIONAL DE EDUCACIÓN DIVERSIFICADA",
            "count": 7
           },
           {
            "name": "205 others",
            "count": 229
           }
          ]
         }
        },
        {
         "name": "DIRECCION",
         "dtype": "object",
         "stats": {
          "unique_count": 269,
          "nan_count": 0,
          "categories": [
           {
            "name": "CABECERA MUNICIPAL",
            "count": 10
           },
           {
            "name": "BARRIO EL CENTRO",
            "count": 4
           },
           {
            "name": "267 others",
            "count": 293
           }
          ]
         }
        },
        {
         "name": "TELEFONO",
         "dtype": "object",
         "stats": {
          "unique_count": 274,
          "nan_count": 0,
          "categories": [
           {
            "name": "22067425",
            "count": 7
           },
           {
            "name": "79480009",
            "count": 4
           },
           {
            "name": "272 others",
            "count": 296
           }
          ]
         }
        },
        {
         "name": "SUPERVISOR",
         "dtype": "object",
         "stats": {
          "unique_count": 173,
          "nan_count": 0,
          "categories": [
           {
            "name": "CARLOS HUMBERTO GONZALEZ DE LEON",
            "count": 26
           },
           {
            "name": "NORMA ARACELY PALOMO FRANCO DE DIAZ",
            "count": 6
           },
           {
            "name": "171 others",
            "count": 275
           }
          ]
         }
        },
        {
         "name": "DIRECTOR",
         "dtype": "object",
         "stats": {
          "unique_count": 20,
          "nan_count": 0,
          "categories": [
           {
            "name": "---",
            "count": 149
           },
           {
            "name": "--",
            "count": 49
           },
           {
            "name": "18 others",
            "count": 109
           }
          ]
         }
        },
        {
         "name": "NIVEL",
         "dtype": "object",
         "stats": {
          "unique_count": 1,
          "nan_count": 0,
          "categories": [
           {
            "name": "DIVERSIFICADO",
            "count": 307
           }
          ]
         }
        },
        {
         "name": "SECTOR",
         "dtype": "object",
         "stats": {
          "unique_count": 4,
          "nan_count": 0,
          "categories": [
           {
            "name": "PRIVADO",
            "count": 177
           },
           {
            "name": "OFICIAL",
            "count": 121
           },
           {
            "name": "2 others",
            "count": 9
           }
          ]
         }
        },
        {
         "name": "AREA",
         "dtype": "object",
         "stats": {
          "unique_count": 2,
          "nan_count": 0,
          "categories": [
           {
            "name": "URBANA",
            "count": 248
           },
           {
            "name": "RURAL",
            "count": 59
           }
          ]
         }
        },
        {
         "name": "STATUS",
         "dtype": "object",
         "stats": {
          "unique_count": 3,
          "nan_count": 0,
          "categories": [
           {
            "name": "ABIERTA",
            "count": 197
           },
           {
            "name": "CERRADA TEMPORALMENTE",
            "count": 96
           },
           {
            "name": "TEMPORAL TITULOS",
            "count": 14
           }
          ]
         }
        },
        {
         "name": "MODALIDAD",
         "dtype": "object",
         "stats": {
          "unique_count": 2,
          "nan_count": 0,
          "categories": [
           {
            "name": "MONOLINGUE",
            "count": 290
           },
           {
            "name": "BILINGUE",
            "count": 17
           }
          ]
         }
        },
        {
         "name": "JORNADA",
         "dtype": "object",
         "stats": {
          "unique_count": 5,
          "nan_count": 0,
          "categories": [
           {
            "name": "VESPERTINA",
            "count": 123
           },
           {
            "name": "MATUTINA",
            "count": 112
           },
           {
            "name": "3 others",
            "count": 72
           }
          ]
         }
        },
        {
         "name": "PLAN",
         "dtype": "object",
         "stats": {
          "unique_count": 3,
          "nan_count": 0,
          "categories": [
           {
            "name": "DIARIO(REGULAR)",
            "count": 259
           },
           {
            "name": "FIN DE SEMANA",
            "count": 45
           },
           {
            "name": "A DISTANCIA",
            "count": 3
           }
          ]
         }
        },
        {
         "name": "DEPARTAMENTAL",
         "dtype": "object",
         "stats": {
          "unique_count": 24,
          "nan_count": 0,
          "categories": [
           {
            "name": "GUATEMALA NORTE",
            "count": 103
           },
           {
            "name": "ALTA VERAPAZ",
            "count": 49
           },
           {
            "name": "22 others",
            "count": 155
           }
          ]
         }
        },
        {
         "name": "_deepnote_index_column",
         "dtype": "int64"
        }
       ],
       "rows": [
        {
         "CODIGO": "21-07-0080-46",
         "DISTRITO": "21-019",
         "DEPARTAMENTO": "JALAPA",
         "MUNICIPIO": "MATAQUESCUINTLA",
         "ESTABLECIMIENTO": "INSTITUTO TECNICO INDUSTRIAL ALBERT EINSTEIN",
         "DIRECCION": "CANTON BARRIOS",
         "TELEFONO": "79225573",
         "SUPERVISOR": "IDALIA OLINA GONZALEZ REYES",
         "DIRECTOR": "---",
         "NIVEL": "DIVERSIFICADO",
         "SECTOR": "PRIVADO",
         "AREA": "URBANA",
         "STATUS": "CERRADA TEMPORALMENTE",
         "MODALIDAD": "MONOLINGUE",
         "JORNADA": "MATUTINA",
         "PLAN": "DIARIO(REGULAR)",
         "DEPARTAMENTAL": "JALAPA",
         "_deepnote_index_column": 121
        },
        {
         "CODIGO": "03-01-0091-46",
         "DISTRITO": "03-002",
         "DEPARTAMENTO": "SACATEPEQUEZ",
         "MUNICIPIO": "ANTIGUA GUATEMALA",
         "ESTABLECIMIENTO": "INSTITUTO TECNICO EMPRESARIAL",
         "DIRECCION": "CALLE CHIPILAPA NO. 11",
         "TELEFONO": "78326854",
         "SUPERVISOR": "ZOILA ESTHELA JONFE OROZCO",
         "DIRECTOR": "---",
         "NIVEL": "DIVERSIFICADO",
         "SECTOR": "PRIVADO",
         "AREA": "URBANA",
         "STATUS": "CERRADA TEMPORALMENTE",
         "MODALIDAD": "MONOLINGUE",
         "JORNADA": "VESPERTINA",
         "PLAN": "DIARIO(REGULAR)",
         "DEPARTAMENTAL": "SACATEPÉQUEZ",
         "_deepnote_index_column": 147
        },
        {
         "CODIGO": "03-02-1424-46",
         "DISTRITO": "03-003",
         "DEPARTAMENTO": "SACATEPEQUEZ",
         "MUNICIPIO": "JOCOTENANGO",
         "ESTABLECIMIENTO": "LICEO MIXTO BILINGUE EMPRESARIAL",
         "DIRECCION": "8A. CALLE 2-00 COLONIA LOS LLANOS",
         "TELEFONO": "78887460-55022177",
         "SUPERVISOR": "MIRNA CONSUELO VEGA SEMITE DE GOMEZ",
         "DIRECTOR": "----",
         "NIVEL": "DIVERSIFICADO",
         "SECTOR": "PRIVADO",
         "AREA": "URBANA",
         "STATUS": "CERRADA TEMPORALMENTE",
         "MODALIDAD": "MONOLINGUE",
         "JORNADA": "DOBLE",
         "PLAN": "FIN DE SEMANA",
         "DEPARTAMENTAL": "SACATEPÉQUEZ",
         "_deepnote_index_column": 261
        },
        {
         "CODIGO": "03-03-0005-46",
         "DISTRITO": "03-003",
         "DEPARTAMENTO": "SACATEPEQUEZ",
         "MUNICIPIO": "PASTORES",
         "ESTABLECIMIENTO": "INSTITUTO NACIONAL DE EDUCACION DIVERSIFICADA DE PASTORES",
         "DIRECCION": "CALLE REAL DE PASTORES",
         "TELEFONO": "52672187",
         "SUPERVISOR": "MIRNA CONSUELO VEGA SEMITE DE GOMEZ",
         "DIRECTOR": "---",
         "NIVEL": "DIVERSIFICADO",
         "SECTOR": "OFICIAL",
         "AREA": "URBANA",
         "STATUS": "ABIERTA",
         "MODALIDAD": "MONOLINGUE",
         "JORNADA": "VESPERTINA",
         "PLAN": "DIARIO(REGULAR)",
         "DEPARTAMENTAL": "SACATEPÉQUEZ",
         "_deepnote_index_column": 263
        },
        {
         "CODIGO": "03-04-0019-46",
         "DISTRITO": "03-004",
         "DEPARTAMENTO": "SACATEPEQUEZ",
         "MUNICIPIO": "SUMPANGO",
         "ESTABLECIMIENTO": "INSTITUTO NACIONAL DE EDUCACION DIVERSIFICADA SERGIO LEONEL CELIS NAVAS",
         "DIRECCION": "AVENIDA DEL NIÑO ZONA 4",
         "TELEFONO": "78331687",
         "SUPERVISOR": "OSCAR HUMBERTO SUBUYUJ GIL",
         "DIRECTOR": "---",
         "NIVEL": "DIVERSIFICADO",
         "SECTOR": "OFICIAL",
         "AREA": "URBANA",
         "STATUS": "ABIERTA",
         "MODALIDAD": "MONOLINGUE",
         "JORNADA": "VESPERTINA",
         "PLAN": "DIARIO(REGULAR)",
         "DEPARTAMENTAL": "SACATEPÉQUEZ",
         "_deepnote_index_column": 275
        },
        {
         "CODIGO": "03-04-0034-46",
         "DISTRITO": "03-004",
         "DEPARTAMENTO": "SACATEPEQUEZ",
         "MUNICIPIO": "SUMPANGO",
         "ESTABLECIMIENTO": "INSTITUTO NACIONAL DE EDUCACION DIVERSIFICADA SERGIO LEONEL CELIS NAVAS",
         "DIRECCION": "AVENIDA DEL NIÑO ZONA 4",
         "TELEFONO": "50164574",
         "SUPERVISOR": "OSCAR HUMBERTO SUBUYUJ GIL",
         "DIRECTOR": "---",
         "NIVEL": "DIVERSIFICADO",
         "SECTOR": "OFICIAL",
         "AREA": "URBANA",
         "STATUS": "ABIERTA",
         "MODALIDAD": "MONOLINGUE",
         "JORNADA": "DOBLE",
         "PLAN": "FIN DE SEMANA",
         "DEPARTAMENTAL": "SACATEPÉQUEZ",
         "_deepnote_index_column": 280
        },
        {
         "CODIGO": "03-06-0008-46",
         "DISTRITO": "03-005",
         "DEPARTAMENTO": "SACATEPEQUEZ",
         "MUNICIPIO": "SANTIAGO SACATEPEQUEZ",
         "ESTABLECIMIENTO": "INSTITUTO NACIONAL DE EDUCACION DIVERSIFICADA",
         "DIRECCION": "3RA. AVENIDA Y 4TA. CALLE, ZONA 4",
         "TELEFONO": "41472651",
         "SUPERVISOR": "ANA MELIZA CUYAN VALENZUELA",
         "DIRECTOR": "---",
         "NIVEL": "DIVERSIFICADO",
         "SECTOR": "OFICIAL",
         "AREA": "URBANA",
         "STATUS": "ABIERTA",
         "MODALIDAD": "MONOLINGUE",
         "JORNADA": "MATUTINA",
         "PLAN": "DIARIO(REGULAR)",
         "DEPARTAMENTAL": "SACATEPÉQUEZ",
         "_deepnote_index_column": 308
        },
        {
         "CODIGO": "03-06-1374-46",
         "DISTRITO": "03-005",
         "DEPARTAMENTO": "SACATEPEQUEZ",
         "MUNICIPIO": "SANTIAGO SACATEPEQUEZ",
         "ESTABLECIMIENTO": "INSTITUTO MIXTO LOMA LINDA",
         "DIRECCION": "SANTIAGO SACATEPEQUEZ",
         "TELEFONO": "55892069",
         "SUPERVISOR": "ANA MELIZA CUYAN VALENZUELA",
         "DIRECTOR": "----",
         "NIVEL": "DIVERSIFICADO",
         "SECTOR": "PRIVADO",
         "AREA": "URBANA",
         "STATUS": "ABIERTA",
         "MODALIDAD": "MONOLINGUE",
         "JORNADA": "DOBLE",
         "PLAN": "FIN DE SEMANA",
         "DEPARTAMENTAL": "SACATEPÉQUEZ",
         "_deepnote_index_column": 320
        },
        {
         "CODIGO": "03-07-1217-46",
         "DISTRITO": "03-006",
         "DEPARTAMENTO": "SACATEPEQUEZ",
         "MUNICIPIO": "SAN BARTOLOME MILPAS ALTAS",
         "ESTABLECIMIENTO": "INSTITUTO DIVERSIFICADO POR COOPERATIVA DE ENSEÑANZA",
         "DIRECCION": "2A. AVENIDA FINAL ZONA 1",
         "TELEFONO": "78303845",
         "SUPERVISOR": "JUVENTINO PEREZ SICAN",
         "DIRECTOR": "---",
         "NIVEL": "DIVERSIFICADO",
         "SECTOR": "COOPERATIVA",
         "AREA": "URBANA",
         "STATUS": "ABIERTA",
         "MODALIDAD": "MONOLINGUE",
         "JORNADA": "VESPERTINA",
         "PLAN": "DIARIO(REGULAR)",
         "DEPARTAMENTAL": "SACATEPÉQUEZ",
         "_deepnote_index_column": 327
        },
        {
         "CODIGO": "03-11-0007-46",
         "DISTRITO": "03-001",
         "DEPARTAMENTO": "SACATEPEQUEZ",
         "MUNICIPIO": "SANTA MARIA DE JESUS",
         "ESTABLECIMIENTO": "INSTITUTO NACIONAL DE EDUCACION DIVERSIFICADA",
         "DIRECCION": "PRIMER CANTON PLAZUELA",
         "TELEFONO": "59308220",
         "SUPERVISOR": "JORGE OTONIEL CRUZ SAL",
         "DIRECTOR": "---",
         "NIVEL": "DIVERSIFICADO",
         "SECTOR": "OFICIAL",
         "AREA": "URBANA",
         "STATUS": "ABIERTA",
         "MODALIDAD": "MONOLINGUE",
         "JORNADA": "NOCTURNA",
         "PLAN": "DIARIO(REGULAR)",
         "DEPARTAMENTAL": "SACATEPÉQUEZ",
         "_deepnote_index_column": 376
        }
       ]
      },
      "text/plain": "             CODIGO DISTRITO  DEPARTAMENTO              MUNICIPIO  \\\n121   21-07-0080-46   21-019        JALAPA        MATAQUESCUINTLA   \n147   03-01-0091-46   03-002  SACATEPEQUEZ      ANTIGUA GUATEMALA   \n261   03-02-1424-46   03-003  SACATEPEQUEZ            JOCOTENANGO   \n263   03-03-0005-46   03-003  SACATEPEQUEZ               PASTORES   \n275   03-04-0019-46   03-004  SACATEPEQUEZ               SUMPANGO   \n...             ...      ...           ...                    ...   \n8254  12-19-0057-46   12-042    SAN MARCOS              SAN PABLO   \n8275  12-21-0019-46   12-044    SAN MARCOS             LA REFORMA   \n8325  12-27-0014-46   12-051    SAN MARCOS  ESQUIPULAS PALO GORDO   \n8331  12-28-0004-46   12-052    SAN MARCOS             RIO BLANCO   \n8337  12-29-0022-46   12-053    SAN MARCOS            SAN LORENZO   \n\n                                        ESTABLECIMIENTO  \\\n121        INSTITUTO TECNICO INDUSTRIAL ALBERT EINSTEIN   \n147                       INSTITUTO TECNICO EMPRESARIAL   \n261                    LICEO MIXTO BILINGUE EMPRESARIAL   \n263   INSTITUTO NACIONAL DE EDUCACION DIVERSIFICADA ...   \n275   INSTITUTO NACIONAL DE EDUCACION DIVERSIFICADA ...   \n...                                                 ...   \n8254      INSTITUTO NACIONAL DE EDUCACION DIVERSIFICADA   \n8275      INSTITUTO NACIONAL DE EDUCACION DIVERSIFICADA   \n8325      INSTITUTO NACIONAL DE EDUCACION DIVERSIFICADA   \n8331      INSTITUTO NACIONAL DE EDUCACION DIVERSIFICADA   \n8337      INSTITUTO NACIONAL DE EDUCACION DIVERSIFICADA   \n\n                              DIRECCION           TELEFONO  \\\n121                      CANTON BARRIOS           79225573   \n147              CALLE CHIPILAPA NO. 11           78326854   \n261   8A. CALLE 2-00 COLONIA LOS LLANOS  78887460-55022177   \n263              CALLE REAL DE PASTORES           52672187   \n275             AVENIDA DEL NIÑO ZONA 4           78331687   \n...                                 ...                ...   \n8254           CASERIO NUEVO SAN CARLOS           57025640   \n8275                    CANTON LA PALMA           45988550   \n8325                ALDEA VILLA HERMOSA           47746966   \n8331                 CABECERA MUNICIPAL           51979378   \n8337                   ALDEA SANTA ROSA           46498952   \n\n                               SUPERVISOR DIRECTOR          NIVEL   SECTOR  \\\n121           IDALIA OLINA GONZALEZ REYES      ---  DIVERSIFICADO  PRIVADO   \n147            ZOILA ESTHELA JONFE OROZCO      ---  DIVERSIFICADO  PRIVADO   \n261   MIRNA CONSUELO VEGA SEMITE DE GOMEZ     ----  DIVERSIFICADO  PRIVADO   \n263   MIRNA CONSUELO VEGA SEMITE DE GOMEZ      ---  DIVERSIFICADO  OFICIAL   \n275            OSCAR HUMBERTO SUBUYUJ GIL      ---  DIVERSIFICADO  OFICIAL   \n...                                   ...      ...            ...      ...   \n8254     ERIBERTO BALDOMERO MONZON MENDEZ      ---  DIVERSIFICADO  OFICIAL   \n8275         RUDY AMILCAR REQUENA GODÍNEZ      ---  DIVERSIFICADO  OFICIAL   \n8325       HORACIO ROLANDO OROZCO VASQUEZ      ---  DIVERSIFICADO  OFICIAL   \n8331       MANFREDO WALDEMAR CHILEL PEREZ      ---  DIVERSIFICADO  OFICIAL   \n8337      AMILCAR ROCAEL VELASQUEZ OROZCO      ---  DIVERSIFICADO  OFICIAL   \n\n        AREA                 STATUS   MODALIDAD     JORNADA             PLAN  \\\n121   URBANA  CERRADA TEMPORALMENTE  MONOLINGUE    MATUTINA  DIARIO(REGULAR)   \n147   URBANA  CERRADA TEMPORALMENTE  MONOLINGUE  VESPERTINA  DIARIO(REGULAR)   \n261   URBANA  CERRADA TEMPORALMENTE  MONOLINGUE       DOBLE    FIN DE SEMANA   \n263   URBANA                ABIERTA  MONOLINGUE  VESPERTINA  DIARIO(REGULAR)   \n275   URBANA                ABIERTA  MONOLINGUE  VESPERTINA  DIARIO(REGULAR)   \n...      ...                    ...         ...         ...              ...   \n8254   RURAL                ABIERTA  MONOLINGUE  VESPERTINA  DIARIO(REGULAR)   \n8275   RURAL                ABIERTA  MONOLINGUE  VESPERTINA  DIARIO(REGULAR)   \n8325   RURAL  CERRADA TEMPORALMENTE  MONOLINGUE  VESPERTINA  DIARIO(REGULAR)   \n8331  URBANA                ABIERTA  MONOLINGUE    MATUTINA  DIARIO(REGULAR)   \n8337   RURAL                ABIERTA  MONOLINGUE    MATUTINA  DIARIO(REGULAR)   \n\n     DEPARTAMENTAL  \n121         JALAPA  \n147   SACATEPÉQUEZ  \n261   SACATEPÉQUEZ  \n263   SACATEPÉQUEZ  \n275   SACATEPÉQUEZ  \n...            ...  \n8254    SAN MARCOS  \n8275    SAN MARCOS  \n8325    SAN MARCOS  \n8331    SAN MARCOS  \n8337    SAN MARCOS  \n\n[307 rows x 17 columns]",
      "text/html": "<div>\n<style scoped>\n    .dataframe tbody tr th:only-of-type {\n        vertical-align: middle;\n    }\n\n    .dataframe tbody tr th {\n        vertical-align: top;\n    }\n\n    .dataframe thead th {\n        text-align: right;\n    }\n</style>\n<table border=\"1\" class=\"dataframe\">\n  <thead>\n    <tr style=\"text-align: right;\">\n      <th></th>\n      <th>CODIGO</th>\n      <th>DISTRITO</th>\n      <th>DEPARTAMENTO</th>\n      <th>MUNICIPIO</th>\n      <th>ESTABLECIMIENTO</th>\n      <th>DIRECCION</th>\n      <th>TELEFONO</th>\n      <th>SUPERVISOR</th>\n      <th>DIRECTOR</th>\n      <th>NIVEL</th>\n      <th>SECTOR</th>\n      <th>AREA</th>\n      <th>STATUS</th>\n      <th>MODALIDAD</th>\n      <th>JORNADA</th>\n      <th>PLAN</th>\n      <th>DEPARTAMENTAL</th>\n    </tr>\n  </thead>\n  <tbody>\n    <tr>\n      <th>121</th>\n      <td>21-07-0080-46</td>\n      <td>21-019</td>\n      <td>JALAPA</td>\n      <td>MATAQUESCUINTLA</td>\n      <td>INSTITUTO TECNICO INDUSTRIAL ALBERT EINSTEIN</td>\n      <td>CANTON BARRIOS</td>\n      <td>79225573</td>\n      <td>IDALIA OLINA GONZALEZ REYES</td>\n      <td>---</td>\n      <td>DIVERSIFICADO</td>\n      <td>PRIVADO</td>\n      <td>URBANA</td>\n      <td>CERRADA TEMPORALMENTE</td>\n      <td>MONOLINGUE</td>\n      <td>MATUTINA</td>\n      <td>DIARIO(REGULAR)</td>\n      <td>JALAPA</td>\n    </tr>\n    <tr>\n      <th>147</th>\n      <td>03-01-0091-46</td>\n      <td>03-002</td>\n      <td>SACATEPEQUEZ</td>\n      <td>ANTIGUA GUATEMALA</td>\n      <td>INSTITUTO TECNICO EMPRESARIAL</td>\n      <td>CALLE CHIPILAPA NO. 11</td>\n      <td>78326854</td>\n      <td>ZOILA ESTHELA JONFE OROZCO</td>\n      <td>---</td>\n      <td>DIVERSIFICADO</td>\n      <td>PRIVADO</td>\n      <td>URBANA</td>\n      <td>CERRADA TEMPORALMENTE</td>\n      <td>MONOLINGUE</td>\n      <td>VESPERTINA</td>\n      <td>DIARIO(REGULAR)</td>\n      <td>SACATEPÉQUEZ</td>\n    </tr>\n    <tr>\n      <th>261</th>\n      <td>03-02-1424-46</td>\n      <td>03-003</td>\n      <td>SACATEPEQUEZ</td>\n      <td>JOCOTENANGO</td>\n      <td>LICEO MIXTO BILINGUE EMPRESARIAL</td>\n      <td>8A. CALLE 2-00 COLONIA LOS LLANOS</td>\n      <td>78887460-55022177</td>\n      <td>MIRNA CONSUELO VEGA SEMITE DE GOMEZ</td>\n      <td>----</td>\n      <td>DIVERSIFICADO</td>\n      <td>PRIVADO</td>\n      <td>URBANA</td>\n      <td>CERRADA TEMPORALMENTE</td>\n      <td>MONOLINGUE</td>\n      <td>DOBLE</td>\n      <td>FIN DE SEMANA</td>\n      <td>SACATEPÉQUEZ</td>\n    </tr>\n    <tr>\n      <th>263</th>\n      <td>03-03-0005-46</td>\n      <td>03-003</td>\n      <td>SACATEPEQUEZ</td>\n      <td>PASTORES</td>\n      <td>INSTITUTO NACIONAL DE EDUCACION DIVERSIFICADA ...</td>\n      <td>CALLE REAL DE PASTORES</td>\n      <td>52672187</td>\n      <td>MIRNA CONSUELO VEGA SEMITE DE GOMEZ</td>\n      <td>---</td>\n      <td>DIVERSIFICADO</td>\n      <td>OFICIAL</td>\n      <td>URBANA</td>\n      <td>ABIERTA</td>\n      <td>MONOLINGUE</td>\n      <td>VESPERTINA</td>\n      <td>DIARIO(REGULAR)</td>\n      <td>SACATEPÉQUEZ</td>\n    </tr>\n    <tr>\n      <th>275</th>\n      <td>03-04-0019-46</td>\n      <td>03-004</td>\n      <td>SACATEPEQUEZ</td>\n      <td>SUMPANGO</td>\n      <td>INSTITUTO NACIONAL DE EDUCACION DIVERSIFICADA ...</td>\n      <td>AVENIDA DEL NIÑO ZONA 4</td>\n      <td>78331687</td>\n      <td>OSCAR HUMBERTO SUBUYUJ GIL</td>\n      <td>---</td>\n      <td>DIVERSIFICADO</td>\n      <td>OFICIAL</td>\n      <td>URBANA</td>\n      <td>ABIERTA</td>\n      <td>MONOLINGUE</td>\n      <td>VESPERTINA</td>\n      <td>DIARIO(REGULAR)</td>\n      <td>SACATEPÉQUEZ</td>\n    </tr>\n    <tr>\n      <th>...</th>\n      <td>...</td>\n      <td>...</td>\n      <td>...</td>\n      <td>...</td>\n      <td>...</td>\n      <td>...</td>\n      <td>...</td>\n      <td>...</td>\n      <td>...</td>\n      <td>...</td>\n      <td>...</td>\n      <td>...</td>\n      <td>...</td>\n      <td>...</td>\n      <td>...</td>\n      <td>...</td>\n      <td>...</td>\n    </tr>\n    <tr>\n      <th>8254</th>\n      <td>12-19-0057-46</td>\n      <td>12-042</td>\n      <td>SAN MARCOS</td>\n      <td>SAN PABLO</td>\n      <td>INSTITUTO NACIONAL DE EDUCACION DIVERSIFICADA</td>\n      <td>CASERIO NUEVO SAN CARLOS</td>\n      <td>57025640</td>\n      <td>ERIBERTO BALDOMERO MONZON MENDEZ</td>\n      <td>---</td>\n      <td>DIVERSIFICADO</td>\n      <td>OFICIAL</td>\n      <td>RURAL</td>\n      <td>ABIERTA</td>\n      <td>MONOLINGUE</td>\n      <td>VESPERTINA</td>\n      <td>DIARIO(REGULAR)</td>\n      <td>SAN MARCOS</td>\n    </tr>\n    <tr>\n      <th>8275</th>\n      <td>12-21-0019-46</td>\n      <td>12-044</td>\n      <td>SAN MARCOS</td>\n      <td>LA REFORMA</td>\n      <td>INSTITUTO NACIONAL DE EDUCACION DIVERSIFICADA</td>\n      <td>CANTON LA PALMA</td>\n      <td>45988550</td>\n      <td>RUDY AMILCAR REQUENA GODÍNEZ</td>\n      <td>---</td>\n      <td>DIVERSIFICADO</td>\n      <td>OFICIAL</td>\n      <td>RURAL</td>\n      <td>ABIERTA</td>\n      <td>MONOLINGUE</td>\n      <td>VESPERTINA</td>\n      <td>DIARIO(REGULAR)</td>\n      <td>SAN MARCOS</td>\n    </tr>\n    <tr>\n      <th>8325</th>\n      <td>12-27-0014-46</td>\n      <td>12-051</td>\n      <td>SAN MARCOS</td>\n      <td>ESQUIPULAS PALO GORDO</td>\n      <td>INSTITUTO NACIONAL DE EDUCACION DIVERSIFICADA</td>\n      <td>ALDEA VILLA HERMOSA</td>\n      <td>47746966</td>\n      <td>HORACIO ROLANDO OROZCO VASQUEZ</td>\n      <td>---</td>\n      <td>DIVERSIFICADO</td>\n      <td>OFICIAL</td>\n      <td>RURAL</td>\n      <td>CERRADA TEMPORALMENTE</td>\n      <td>MONOLINGUE</td>\n      <td>VESPERTINA</td>\n      <td>DIARIO(REGULAR)</td>\n      <td>SAN MARCOS</td>\n    </tr>\n    <tr>\n      <th>8331</th>\n      <td>12-28-0004-46</td>\n      <td>12-052</td>\n      <td>SAN MARCOS</td>\n      <td>RIO BLANCO</td>\n      <td>INSTITUTO NACIONAL DE EDUCACION DIVERSIFICADA</td>\n      <td>CABECERA MUNICIPAL</td>\n      <td>51979378</td>\n      <td>MANFREDO WALDEMAR CHILEL PEREZ</td>\n      <td>---</td>\n      <td>DIVERSIFICADO</td>\n      <td>OFICIAL</td>\n      <td>URBANA</td>\n      <td>ABIERTA</td>\n      <td>MONOLINGUE</td>\n      <td>MATUTINA</td>\n      <td>DIARIO(REGULAR)</td>\n      <td>SAN MARCOS</td>\n    </tr>\n    <tr>\n      <th>8337</th>\n      <td>12-29-0022-46</td>\n      <td>12-053</td>\n      <td>SAN MARCOS</td>\n      <td>SAN LORENZO</td>\n      <td>INSTITUTO NACIONAL DE EDUCACION DIVERSIFICADA</td>\n      <td>ALDEA SANTA ROSA</td>\n      <td>46498952</td>\n      <td>AMILCAR ROCAEL VELASQUEZ OROZCO</td>\n      <td>---</td>\n      <td>DIVERSIFICADO</td>\n      <td>OFICIAL</td>\n      <td>RURAL</td>\n      <td>ABIERTA</td>\n      <td>MONOLINGUE</td>\n      <td>MATUTINA</td>\n      <td>DIARIO(REGULAR)</td>\n      <td>SAN MARCOS</td>\n    </tr>\n  </tbody>\n</table>\n<p>307 rows × 17 columns</p>\n</div>"
     },
     "metadata": {}
    }
   ],
   "execution_count": null
  },
  {
   "cell_type": "code",
   "metadata": {
    "cell_id": "356cf95f95834857bbf5eb085be4790f",
    "tags": [],
    "deepnote_to_be_reexecuted": false,
    "source_hash": "521cf2ea",
    "execution_start": 1660343327047,
    "execution_millis": 105,
    "deepnote_table_state": {
     "pageSize": 10,
     "pageIndex": 0,
     "filters": [],
     "sortBy": []
    },
    "deepnote_table_loading": false,
    "deepnote_cell_type": "code",
    "deepnote_cell_height": 220
   },
   "source": "df['DIRECTOR'] = df['DIRECTOR'].replace(list(df.loc[df['DIRECTOR'].str.contains('-')]['DIRECTOR']), '')\ndf.loc[df['DIRECTOR'].str.contains('-')]",
   "outputs": [
    {
     "output_type": "execute_result",
     "execution_count": 13,
     "data": {
      "application/vnd.deepnote.dataframe.v3+json": {
       "column_count": 17,
       "row_count": 0,
       "columns": [
        {
         "name": "CODIGO",
         "dtype": "object",
         "stats": {
          "unique_count": 0,
          "nan_count": 0,
          "categories": []
         }
        },
        {
         "name": "DISTRITO",
         "dtype": "object",
         "stats": {
          "unique_count": 0,
          "nan_count": 0,
          "categories": []
         }
        },
        {
         "name": "DEPARTAMENTO",
         "dtype": "object",
         "stats": {
          "unique_count": 0,
          "nan_count": 0,
          "categories": []
         }
        },
        {
         "name": "MUNICIPIO",
         "dtype": "object",
         "stats": {
          "unique_count": 0,
          "nan_count": 0,
          "categories": []
         }
        },
        {
         "name": "ESTABLECIMIENTO",
         "dtype": "object",
         "stats": {
          "unique_count": 0,
          "nan_count": 0,
          "categories": []
         }
        },
        {
         "name": "DIRECCION",
         "dtype": "object",
         "stats": {
          "unique_count": 0,
          "nan_count": 0,
          "categories": []
         }
        },
        {
         "name": "TELEFONO",
         "dtype": "object",
         "stats": {
          "unique_count": 0,
          "nan_count": 0,
          "categories": []
         }
        },
        {
         "name": "SUPERVISOR",
         "dtype": "object",
         "stats": {
          "unique_count": 0,
          "nan_count": 0,
          "categories": []
         }
        },
        {
         "name": "DIRECTOR",
         "dtype": "object",
         "stats": {
          "unique_count": 0,
          "nan_count": 0,
          "categories": []
         }
        },
        {
         "name": "NIVEL",
         "dtype": "object",
         "stats": {
          "unique_count": 0,
          "nan_count": 0,
          "categories": []
         }
        },
        {
         "name": "SECTOR",
         "dtype": "object",
         "stats": {
          "unique_count": 0,
          "nan_count": 0,
          "categories": []
         }
        },
        {
         "name": "AREA",
         "dtype": "object",
         "stats": {
          "unique_count": 0,
          "nan_count": 0,
          "categories": []
         }
        },
        {
         "name": "STATUS",
         "dtype": "object",
         "stats": {
          "unique_count": 0,
          "nan_count": 0,
          "categories": []
         }
        },
        {
         "name": "MODALIDAD",
         "dtype": "object",
         "stats": {
          "unique_count": 0,
          "nan_count": 0,
          "categories": []
         }
        },
        {
         "name": "JORNADA",
         "dtype": "object",
         "stats": {
          "unique_count": 0,
          "nan_count": 0,
          "categories": []
         }
        },
        {
         "name": "PLAN",
         "dtype": "object",
         "stats": {
          "unique_count": 0,
          "nan_count": 0,
          "categories": []
         }
        },
        {
         "name": "DEPARTAMENTAL",
         "dtype": "object",
         "stats": {
          "unique_count": 0,
          "nan_count": 0,
          "categories": []
         }
        },
        {
         "name": "_deepnote_index_column",
         "dtype": "int64"
        }
       ],
       "rows": []
      },
      "text/plain": "Empty DataFrame\nColumns: [CODIGO, DISTRITO, DEPARTAMENTO, MUNICIPIO, ESTABLECIMIENTO, DIRECCION, TELEFONO, SUPERVISOR, DIRECTOR, NIVEL, SECTOR, AREA, STATUS, MODALIDAD, JORNADA, PLAN, DEPARTAMENTAL]\nIndex: []",
      "text/html": "<div>\n<style scoped>\n    .dataframe tbody tr th:only-of-type {\n        vertical-align: middle;\n    }\n\n    .dataframe tbody tr th {\n        vertical-align: top;\n    }\n\n    .dataframe thead th {\n        text-align: right;\n    }\n</style>\n<table border=\"1\" class=\"dataframe\">\n  <thead>\n    <tr style=\"text-align: right;\">\n      <th></th>\n      <th>CODIGO</th>\n      <th>DISTRITO</th>\n      <th>DEPARTAMENTO</th>\n      <th>MUNICIPIO</th>\n      <th>ESTABLECIMIENTO</th>\n      <th>DIRECCION</th>\n      <th>TELEFONO</th>\n      <th>SUPERVISOR</th>\n      <th>DIRECTOR</th>\n      <th>NIVEL</th>\n      <th>SECTOR</th>\n      <th>AREA</th>\n      <th>STATUS</th>\n      <th>MODALIDAD</th>\n      <th>JORNADA</th>\n      <th>PLAN</th>\n      <th>DEPARTAMENTAL</th>\n    </tr>\n  </thead>\n  <tbody>\n  </tbody>\n</table>\n</div>"
     },
     "metadata": {}
    }
   ],
   "execution_count": null
  },
  {
   "cell_type": "code",
   "metadata": {
    "cell_id": "62945ce7c1674d74ba10bda97339d6b1",
    "tags": [],
    "deepnote_to_be_reexecuted": false,
    "source_hash": "253a17a0",
    "execution_start": 1660343327157,
    "execution_millis": 11,
    "deepnote_cell_type": "code",
    "deepnote_cell_height": 228.3125,
    "deepnote_output_heights": [
     136.3125
    ]
   },
   "source": "df[\"ESTABLECIMIENTO\"].unique()",
   "outputs": [
    {
     "output_type": "execute_result",
     "execution_count": 14,
     "data": {
      "text/plain": "array(['INSTITUTO NORMAL CENTROAMERICANO PARA SEÑORITAS -INCAS-',\n       'INSTITUTO NORMAL CENTROAMERICANO PARA VARONES',\n       'COLEGIO PARTICULAR MIXTO LICEO JALAPA', ...,\n       'COLEGIO PRIVADO URBANO MIXTO \"LICEO MODERNO\"',\n       '\"COLEGIO EDUCATIVO MIXTO LUNA AZUL -CEMLA-\"',\n       'CENTRO EDUCATIVO \"CRISTO EL SALVADOR\" FE Y ALEGRÍA NO. 03'],\n      dtype=object)"
     },
     "metadata": {}
    }
   ],
   "execution_count": null
  },
  {
   "cell_type": "markdown",
   "source": "<a style='text-decoration:none;line-height:16px;display:flex;color:#5B5B62;padding:10px;justify-content:end;' href='https://deepnote.com?utm_source=created-in-deepnote-cell&projectId=ac0e8702-7c89-4442-bbda-59db8ce09ecc' target=\"_blank\">\n<img alt='Created in deepnote.com' style='display:inline;max-height:16px;margin:0px;margin-right:7.5px;' src='data:image/svg+xml;base64,PD94bWwgdmVyc2lvbj0iMS4wIiBlbmNvZGluZz0iVVRGLTgiPz4KPHN2ZyB3aWR0aD0iODBweCIgaGVpZ2h0PSI4MHB4IiB2aWV3Qm94PSIwIDAgODAgODAiIHZlcnNpb249IjEuMSIgeG1sbnM9Imh0dHA6Ly93d3cudzMub3JnLzIwMDAvc3ZnIiB4bWxuczp4bGluaz0iaHR0cDovL3d3dy53My5vcmcvMTk5OS94bGluayI+CiAgICA8IS0tIEdlbmVyYXRvcjogU2tldGNoIDU0LjEgKDc2NDkwKSAtIGh0dHBzOi8vc2tldGNoYXBwLmNvbSAtLT4KICAgIDx0aXRsZT5Hcm91cCAzPC90aXRsZT4KICAgIDxkZXNjPkNyZWF0ZWQgd2l0aCBTa2V0Y2guPC9kZXNjPgogICAgPGcgaWQ9IkxhbmRpbmciIHN0cm9rZT0ibm9uZSIgc3Ryb2tlLXdpZHRoPSIxIiBmaWxsPSJub25lIiBmaWxsLXJ1bGU9ImV2ZW5vZGQiPgogICAgICAgIDxnIGlkPSJBcnRib2FyZCIgdHJhbnNmb3JtPSJ0cmFuc2xhdGUoLTEyMzUuMDAwMDAwLCAtNzkuMDAwMDAwKSI+CiAgICAgICAgICAgIDxnIGlkPSJHcm91cC0zIiB0cmFuc2Zvcm09InRyYW5zbGF0ZSgxMjM1LjAwMDAwMCwgNzkuMDAwMDAwKSI+CiAgICAgICAgICAgICAgICA8cG9seWdvbiBpZD0iUGF0aC0yMCIgZmlsbD0iIzAyNjVCNCIgcG9pbnRzPSIyLjM3NjIzNzYyIDgwIDM4LjA0NzY2NjcgODAgNTcuODIxNzgyMiA3My44MDU3NTkyIDU3LjgyMTc4MjIgMzIuNzU5MjczOSAzOS4xNDAyMjc4IDMxLjY4MzE2ODMiPjwvcG9seWdvbj4KICAgICAgICAgICAgICAgIDxwYXRoIGQ9Ik0zNS4wMDc3MTgsODAgQzQyLjkwNjIwMDcsNzYuNDU0OTM1OCA0Ny41NjQ5MTY3LDcxLjU0MjI2NzEgNDguOTgzODY2LDY1LjI2MTk5MzkgQzUxLjExMjI4OTksNTUuODQxNTg0MiA0MS42NzcxNzk1LDQ5LjIxMjIyODQgMjUuNjIzOTg0Niw0OS4yMTIyMjg0IEMyNS40ODQ5Mjg5LDQ5LjEyNjg0NDggMjkuODI2MTI5Niw0My4yODM4MjQ4IDM4LjY0NzU4NjksMzEuNjgzMTY4MyBMNzIuODcxMjg3MSwzMi41NTQ0MjUgTDY1LjI4MDk3Myw2Ny42NzYzNDIxIEw1MS4xMTIyODk5LDc3LjM3NjE0NCBMMzUuMDA3NzE4LDgwIFoiIGlkPSJQYXRoLTIyIiBmaWxsPSIjMDAyODY4Ij48L3BhdGg+CiAgICAgICAgICAgICAgICA8cGF0aCBkPSJNMCwzNy43MzA0NDA1IEwyNy4xMTQ1MzcsMC4yNTcxMTE0MzYgQzYyLjM3MTUxMjMsLTEuOTkwNzE3MDEgODAsMTAuNTAwMzkyNyA4MCwzNy43MzA0NDA1IEM4MCw2NC45NjA0ODgyIDY0Ljc3NjUwMzgsNzkuMDUwMzQxNCAzNC4zMjk1MTEzLDgwIEM0Ny4wNTUzNDg5LDc3LjU2NzA4MDggNTMuNDE4MjY3Nyw3MC4zMTM2MTAzIDUzLjQxODI2NzcsNTguMjM5NTg4NSBDNTMuNDE4MjY3Nyw0MC4xMjg1NTU3IDM2LjMwMzk1NDQsMzcuNzMwNDQwNSAyNS4yMjc0MTcsMzcuNzMwNDQwNSBDMTcuODQzMDU4NiwzNy43MzA0NDA1IDkuNDMzOTE5NjYsMzcuNzMwNDQwNSAwLDM3LjczMDQ0MDUgWiIgaWQ9IlBhdGgtMTkiIGZpbGw9IiMzNzkzRUYiPjwvcGF0aD4KICAgICAgICAgICAgPC9nPgogICAgICAgIDwvZz4KICAgIDwvZz4KPC9zdmc+' > </img>\nCreated in <span style='font-weight:600;margin-left:4px;'>Deepnote</span></a>",
   "metadata": {
    "tags": [],
    "created_in_deepnote_cell": true,
    "deepnote_cell_type": "markdown"
   }
  }
 ],
 "nbformat": 4,
 "nbformat_minor": 2,
 "metadata": {
  "orig_nbformat": 2,
  "deepnote": {},
  "deepnote_notebook_id": "9bb591e3-818e-4e89-8801-2501e390010b",
  "deepnote_execution_queue": []
 }
}